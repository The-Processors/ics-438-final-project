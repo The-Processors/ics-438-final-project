{
 "cells": [
  {
   "cell_type": "code",
   "execution_count": 40,
   "id": "dbdb0714",
   "metadata": {
    "slideshow": {
     "slide_type": "skip"
    }
   },
   "outputs": [],
   "source": [
    "import sys\n",
    "sys.path.append('/opt/anaconda3/lib/python3.8/site-packages')"
   ]
  },
  {
   "cell_type": "code",
   "execution_count": 2,
   "id": "76243e3b",
   "metadata": {
    "scrolled": true,
    "slideshow": {
     "slide_type": "skip"
    }
   },
   "outputs": [
    {
     "name": "stderr",
     "output_type": "stream",
     "text": [
      "  Running command git clone -q https://github.com/JustAnotherArchivist/snscrape.git 'C:\\Users\\rk982\\AppData\\Local\\Temp\\pip-req-build-5mf1jbav'\n"
     ]
    },
    {
     "name": "stdout",
     "output_type": "stream",
     "text": [
      "Collecting git+https://github.com/JustAnotherArchivist/snscrape.git\n",
      "  Cloning https://github.com/JustAnotherArchivist/snscrape.git to c:\\users\\rk982\\appdata\\local\\temp\\pip-req-build-5mf1jbav\n",
      "Requirement already satisfied: requests[socks] in c:\\users\\rk982\\anaconda3\\lib\\site-packages (from snscrape==0.4.1.20211214) (2.25.1)\n",
      "Requirement already satisfied: lxml in c:\\users\\rk982\\anaconda3\\lib\\site-packages (from snscrape==0.4.1.20211214) (4.6.3)\n",
      "Requirement already satisfied: beautifulsoup4 in c:\\users\\rk982\\anaconda3\\lib\\site-packages (from snscrape==0.4.1.20211214) (4.9.3)\n",
      "Requirement already satisfied: pytz in c:\\users\\rk982\\anaconda3\\lib\\site-packages (from snscrape==0.4.1.20211214) (2021.1)\n",
      "Requirement already satisfied: soupsieve>1.2 in c:\\users\\rk982\\anaconda3\\lib\\site-packages (from beautifulsoup4->snscrape==0.4.1.20211214) (2.2.1)\n",
      "Requirement already satisfied: chardet<5,>=3.0.2 in c:\\users\\rk982\\anaconda3\\lib\\site-packages (from requests[socks]->snscrape==0.4.1.20211214) (4.0.0)\n",
      "Requirement already satisfied: idna<3,>=2.5 in c:\\users\\rk982\\anaconda3\\lib\\site-packages (from requests[socks]->snscrape==0.4.1.20211214) (2.10)\n",
      "Requirement already satisfied: urllib3<1.27,>=1.21.1 in c:\\users\\rk982\\anaconda3\\lib\\site-packages (from requests[socks]->snscrape==0.4.1.20211214) (1.26.4)\n",
      "Requirement already satisfied: certifi>=2017.4.17 in c:\\users\\rk982\\anaconda3\\lib\\site-packages (from requests[socks]->snscrape==0.4.1.20211214) (2020.12.5)\n",
      "Requirement already satisfied: PySocks!=1.5.7,>=1.5.6 in c:\\users\\rk982\\anaconda3\\lib\\site-packages (from requests[socks]->snscrape==0.4.1.20211214) (1.7.1)\n",
      "Building wheels for collected packages: snscrape\n",
      "  Building wheel for snscrape (setup.py): started\n",
      "  Building wheel for snscrape (setup.py): finished with status 'done'\n",
      "  Created wheel for snscrape: filename=snscrape-0.4.1.20211214-py3-none-any.whl size=54377 sha256=75dbcb78287a3fd4c7e7a68292ede96cb92fd37ef51df2100b67e4c8b24610a8\n",
      "  Stored in directory: C:\\Users\\rk982\\AppData\\Local\\Temp\\pip-ephem-wheel-cache-hsin70xx\\wheels\\92\\42\\87\\33fa9b18f7a75d02643a9ca3743339aec9be28c6796267c7d8\n",
      "Successfully built snscrape\n",
      "Installing collected packages: snscrape\n",
      "  Attempting uninstall: snscrape\n",
      "    Found existing installation: snscrape 0.4.0.20211209.dev3+g4b3c6ae\n",
      "    Uninstalling snscrape-0.4.0.20211209.dev3+g4b3c6ae:\n",
      "      Successfully uninstalled snscrape-0.4.0.20211209.dev3+g4b3c6ae\n",
      "Successfully installed snscrape-0.4.1.20211214\n"
     ]
    }
   ],
   "source": [
    "# Run the pip install command below if you don't already have the library\n",
    "# !pip install git+https://github.com/JustAnotherArchivist/snscrape.git\n",
    "# !pip install RISE\n",
    "import os\n",
    "import math\n",
    "import pandas as pd\n",
    "import json\n",
    "from pandas import json_normalize\n",
    "\n",
    "import snscrape.modules.twitter as sntwitter\n",
    "import itertools\n",
    "\n",
    "from datetime import datetime\n",
    "from random import randrange\n",
    "import shutil"
   ]
  },
  {
   "cell_type": "markdown",
   "id": "43b1afd6",
   "metadata": {
    "slideshow": {
     "slide_type": "skip"
    }
   },
   "source": [
    "# PART 1: Tweet Data Collection\n",
    "\n",
    "For this project, tweet data collection is broken down into three parts: creating a search parameter, scraping tweets from all counties in a state, and scraping tweets over multiple date ranges. "
   ]
  },
  {
   "cell_type": "markdown",
   "id": "372d1adc",
   "metadata": {
    "slideshow": {
     "slide_type": "skip"
    }
   },
   "source": [
    "## 1.1: Creating Search Parameter\n",
    "\n",
    "The syntax for our Twitter scraping follows this pattern: ```[TERMS] near:[LOCATION] since:[DATE1] until:[DATE2]```. A new search parameter must be generated for each county and date range. \n",
    "\n",
    "We have four general search terms: coronavirus, covid19, pandemic, and quarantine. We want to find tweets that contain at least one of these four terms. Therefore, our ```[TERMS]``` look like this: ```\"coronavirus\" OR \"covid19\" OR \"pandemic\" OR \"quarantine\"```. To search using different terms or add/remove terms, we can modify that list ```search_terms```. \n",
    "\n",
    "```[LOCATION]``` is just the county name, which we take from a CSV for its respective state. ```[DATE1]``` and ```[DATE2]``` are the start date (inclusive) and end date (exclusive) for the search.\n",
    "\n",
    "As an example, let's say we want to find tweets with any of our search terms in Los Angeles County between January 1st, 2020 and December 31st, 2020. The command would be: ```search_builder(search_terms, \"Los Angeles\", '2020-01-01', '2021-01-01')```.\n",
    "\n",
    "The output would be: ```\"coronavirus\" OR \"covid19\" OR \"pandemic\" OR \"quarantine\" near:\"Los Angeles\" since:2020-01-01 until:2021-01-01```"
   ]
  },
  {
   "cell_type": "markdown",
   "id": "d34520ed",
   "metadata": {
    "slideshow": {
     "slide_type": "slide"
    }
   },
   "source": [
    "# Introduction\n",
    "\n",
    "- The goal of our project:\n",
    "    - Determine if there is a correlation between the sentiment within Tweets and an increase in Covid 19 Cases in the United States.\n",
    "- Over 2 million Tweets were collected among four key State's over a nine week period\n",
    "- The Hugging Face Sentiment Analysis was used on the content of each Tweet\n",
    "- We graphically visualized our data using matplotlib\n",
    "- And lastly ran our Machine Learning algorithm "
   ]
  },
  {
   "cell_type": "markdown",
   "id": "446c9852",
   "metadata": {
    "slideshow": {
     "slide_type": "slide"
    }
   },
   "source": [
    "## Infrastructure for the product:\n",
    "\n",
    "- Large amount of frequently updated data including COVID data and Tweets\n",
    "- Updates are determined by Twitter and the rate of which each individual state <br>updates their COVID case data\n",
    "- Seperate teams would have to established for separate states, or possibly regions\n",
    "- Application would likely need to be hosted by a cloud platform such as AWS as the <br>amount of data could exceed what is capable on one machine\n",
    " "
   ]
  },
  {
   "cell_type": "markdown",
   "id": "5be332e3",
   "metadata": {
    "slideshow": {
     "slide_type": "slide"
    }
   },
   "source": [
    "## Engineering demands for the product\n",
    "\n",
    "- Small amount of data, i.e, a small state requires at least 8GB of RAM as well as a multi-core processor\n",
    "- Having at least 50GB of hard drive space is recommended for smaller states\n",
    "- Attempting to use the product across all regions may require a dedicated drive\n",
    "- Ability to access data on demand when needed\n",
    "- Secondary machine to only handle this product may be necessary as time to complete operation can reach <br>all the way to 10 hours and beyond\n",
    "- Scale is a large factor of this product, as the scale is ultimately up to the user\n"
   ]
  },
  {
   "cell_type": "markdown",
   "id": "ddea1be0",
   "metadata": {
    "slideshow": {
     "slide_type": "slide"
    }
   },
   "source": [
    "## Data Formats and Tools\n",
    "\n",
    "- Snscrape provides Tweet data such as hashtags, keywords, and users\n",
    "- Individual COVID state data provides total cases, positive cases, reported tests, and other <br>useful information to be collected\n",
    "- Sentiment analysis allows us to view the statistics on Tweet data regarding positivity or negativity <br>based on keywords and hashtags\n",
    "- Using one location per Tweet data and state COVID data keeps results consistent with location"
   ]
  },
  {
   "cell_type": "markdown",
   "id": "fb9c6e2a",
   "metadata": {
    "slideshow": {
     "slide_type": "slide"
    }
   },
   "source": [
    "## Analytics Project as Application\n",
    "\n",
    "- Allows a user to see how a state may feel in relative to their COVID cases\n",
    "- Provides a way to view COVID cases and tests in a easily viewable format\n",
    "- A user would access the platform hosting this product as handling the entire application would <br>be unfeasible for one user\n",
    "- This is due to the rising potential scale of the product\n",
    "- A user would likely use this product on a date basis, searching through a range of dates, which <br>could vary in time to completion\n",
    "- Product would likely not be used for a one-off task since the data used is frequently updated and <br>becomes less relevant with time"
   ]
  },
  {
   "cell_type": "markdown",
   "id": "96b20e19",
   "metadata": {
    "slideshow": {
     "slide_type": "slide"
    }
   },
   "source": [
    "### Twitter Data Gathering\n",
    "\n",
    "- Our group scraped Twitter using an open-source tweet-scraper [SNScrape by JustAnotherArchivist](https://github.com/JustAnotherArchivist/snscrape)\n",
    "- We scraped tweets from California, Florida, New York, and Texas since they are the most populated states\n",
    "- Our process can be broken down into three parts\n",
    "    1. Creating a search parameter\n",
    "    2. Scraping and savings tweets from a select state\n",
    "    3. Scraping tweets in a date range"
   ]
  },
  {
   "cell_type": "markdown",
   "id": "4e3c2680",
   "metadata": {
    "slideshow": {
     "slide_type": "slide"
    }
   },
   "source": [
    "### Twitter Data\n",
    "\n",
    "- Formatted the Twitter data collected:\n",
    "    - by week\n",
    "    - by state\n",
    "    - by county"
   ]
  },
  {
   "cell_type": "code",
   "execution_count": 3,
   "id": "270f1b3d",
   "metadata": {
    "scrolled": true,
    "slideshow": {
     "slide_type": "skip"
    }
   },
   "outputs": [
    {
     "name": "stdout",
     "output_type": "stream",
     "text": [
      "\"coronavirus\" OR \"covid19\" OR \"pandemic\" OR \"quarantine\" near:\"Los Angeles\" since:2020-01-01 until:2021-01-01\n"
     ]
    }
   ],
   "source": [
    "ST_ABBR = ['ca', 'fl', 'ny', 'tx']\n",
    "\n",
    "# Search terms: Content in the tweet\n",
    "search_terms = [\n",
    "    'coronavirus',\n",
    "    'covid19',\n",
    "    'pandemic',\n",
    "    'quarantine',\n",
    "]\n",
    "\n",
    "# Creates a search parameter for the Twitter scraper\n",
    "# since_date: inclusive\n",
    "# until_date: exclusive\n",
    "def search_builder(terms, area, since_date, until_date):    \n",
    "    s = ''\n",
    "    # Concatenate all search terms\n",
    "    for i in range(len(terms) - 1):\n",
    "        # NOTE: Inclusive OR statement\n",
    "        s += '\\\"' + terms[i] + '\\\" OR '\n",
    "    s += '\\\"' + terms[len(terms) - 1] + '\\\" '    \n",
    "    \n",
    "    # Within or the near the area\n",
    "    s += 'near:\\\"' + area + '\\\" '\n",
    "    # Since the first date\n",
    "    s += 'since:' + since_date + ' '\n",
    "    # Until the second date\n",
    "    s += 'until:' + until_date\n",
    "    \n",
    "    return s\n",
    "\n",
    "# Search for tweets in Los Angeles mentioning COVID terms\n",
    "# from the beginning to the end of 2020.\n",
    "los_angeles_search = search_builder(\n",
    "    search_terms,\n",
    "    \"Los Angeles\",\n",
    "    '2020-01-01',\n",
    "    '2021-01-01')\n",
    "\n",
    "print(los_angeles_search)"
   ]
  },
  {
   "cell_type": "markdown",
   "id": "5523e078",
   "metadata": {
    "slideshow": {
     "slide_type": "skip"
    }
   },
   "source": [
    "## 1.2 Save and Scrape by State\n",
    "\n",
    "We can now scrape tweets from each county in a single state. To do so, we first need all the counties of the state, which can be found in ```data/counties``` in a CSV file (e.g., California counties = ```ca_counties.csv```). Then, we take a county and put it into our search builder along with the search's date range to generate a search parameter. Next, we put the search parameter and maximum number of tweets we want from each county into the tweet scraper, which will return a dataframe. This dataframe called ```county_tweets``` has more information than we need for our project so we only keep the following fields: date, content, renderedContent, user, and hashtags.\n",
    "\n",
    "After this, we convert ```county_tweets``` into a JSON file following the name pattern ```[COUNTY_NAME].json```. Then, we move the JSON file into its correct subdirectory based on the date range it was scraped from and what state it belongs to. For example, tweets scraped from Alameda County, California between August 1st, 2021 and August 7th, 2021 will be put into a JSON named ```Alameda.json``` and placed into directory ```data/tweets/2021-08-01_2021-08-08/ca_tweets```.\n",
    "\n",
    "This process will be repeated for all counties in the given state and date range."
   ]
  },
  {
   "cell_type": "code",
   "execution_count": 3,
   "id": "5b802380",
   "metadata": {
    "scrolled": true,
    "slideshow": {
     "slide_type": "skip"
    }
   },
   "outputs": [],
   "source": [
    "# Returns a DataFrame with at most tweet_limit tweets resulting from\n",
    "# the search\n",
    "def scrape(search_param, tweet_limit):\n",
    "    return pd.DataFrame(itertools.islice(\n",
    "        sntwitter.TwitterSearchScraper(search_param).get_items(), tweet_limit))\n",
    "\n",
    "# ********* STATE TWEET SCRAPING *********\n",
    "# state: State to scrape\n",
    "# abbr: State abbreviation\n",
    "# limit: Maximum number of tweets to scrape from a county\n",
    "# since_date: Start date to scrape (inclusive)\n",
    "# until_date: End date to scrape (exclusive)\n",
    "# display_all (optional): Display scrape status per county\n",
    "def state_scraper(state, abbr, limit, since_date, until_date, display_all = False):        \n",
    "    \n",
    "    total_tweets = 0\n",
    "\n",
    "    print(\"Compiling tweets (max <=\" + str(limit) + \") from \" + state + \" counties from \" \n",
    "          + since_date + \" to \" + until_date)\n",
    "\n",
    "    print(\"START: \" + str(datetime.now()))\n",
    "\n",
    "    counties = pd.read_csv(\"data/counties/\" + abbr + \"_counties.csv\")\n",
    "\n",
    "    for i in range(len(counties)):\n",
    "\n",
    "        county = counties.iloc[i]['County']\n",
    "        county.strip()\n",
    "\n",
    "        county_search = search_builder(\n",
    "            search_terms,\n",
    "            county + \" County, \" + abbr,\n",
    "            since_date,\n",
    "            until_date)\n",
    "        \n",
    "        county_tweets = scrape(county_search, limit)\n",
    "\n",
    "        if len(county_tweets) != 0:\n",
    "            county_tweets = county_tweets[['date', 'content', 'renderedContent', 'user', 'hashtags']]\n",
    "        \n",
    "        total_tweets = total_tweets + len(county_tweets)\n",
    "\n",
    "        # Generates JSON with respective county tweet data\n",
    "        county_json = county_tweets.to_json(county + \".json\", lines=True, orient='records')\n",
    "\n",
    "        source = os.getcwd() + \"/\" + county + \".json\"\n",
    "        # Move to respective directory\n",
    "        destination = '%s/data/tweets/%s_%s/%s_tweets/%s.json' % (os.getcwd(), since_date, until_date, abbr, county)\n",
    "        shutil.move(source, destination)\n",
    "\n",
    "        if display_all:\n",
    "            print('(%d/%d) %s - %d tweets: %s' % (i + 1, len(counties), county, len(county_tweets), str(datetime.now())))\n",
    "            \n",
    "    print(\"END: \" + str(datetime.now()))\n",
    "    print(str(total_tweets) + \" tweets processed\")"
   ]
  },
  {
   "cell_type": "markdown",
   "id": "e2d1651b",
   "metadata": {
    "slideshow": {
     "slide_type": "skip"
    }
   },
   "source": [
    "Here are wrapper functions for California, Florida, New York, and Texas tweet scrapers. These exist simply for code readability."
   ]
  },
  {
   "cell_type": "code",
   "execution_count": null,
   "id": "8ea01835",
   "metadata": {
    "slideshow": {
     "slide_type": "skip"
    }
   },
   "outputs": [],
   "source": [
    "# California Tweet Scraper\n",
    "def ca_scraper(tweet_limit, since_date, until_date, display_all = False):\n",
    "    state_scraper(\"California\", \"CA\", tweet_limit, since_date, until_date, display_all = display_all)\n",
    "\n",
    "# Florida Tweet Scraper\n",
    "def fl_scraper(tweet_limit, since_date, until_date, display_all = False):\n",
    "    state_scraper(\"Florida\", \"FL\", tweet_limit, since_date, until_date, display_all = display_all)\n",
    "\n",
    "# New York Tweet Scraper\n",
    "def ny_scraper(tweet_limit, since_date, until_date, display_all = False):\n",
    "    state_scraper(\"New York\", \"NY\", tweet_limit, since_date, until_date, display_all = display_all)\n",
    "    \n",
    "# Texas Tweet Scraper\n",
    "def tx_scraper(tweet_limit, since_date, until_date, display_all = False):\n",
    "    state_scraper(\"Texas\", \"TX\", tweet_limit, since_date, until_date, display_all = display_all)"
   ]
  },
  {
   "cell_type": "markdown",
   "id": "2d12a2f6",
   "metadata": {
    "slideshow": {
     "slide_type": "skip"
    }
   },
   "source": [
    "The function ```scrape_all``` performs two important tasks. Firstly, it creates the date range directory that will hold the state subdirectories, which hold all the county tweets. Second, it calls the four defined state scrapers, which will save the county tweets in the directories previously stated. "
   ]
  },
  {
   "cell_type": "code",
   "execution_count": null,
   "id": "ba7543de",
   "metadata": {
    "slideshow": {
     "slide_type": "skip"
    }
   },
   "outputs": [],
   "source": [
    "# Scrape all selected states\n",
    "def scrape_all(tweet_limit, since_date, until_date, display_all = False):\n",
    "    \n",
    "    try:\n",
    "        # Create date range directory\n",
    "        os.mkdir('data/tweets/%s_%s' % (since_date, until_date))\n",
    "        \n",
    "        print(\"Directory for range %s to %s does not exist. Creating now and populating...\" % (since_date, until_date))\n",
    "\n",
    "        # Create California subdirectory\n",
    "        os.mkdir('data/tweets/%s_%s/ca_tweets' % (since_date, until_date))\n",
    "        # Create Florida subdirectory\n",
    "        os.mkdir('data/tweets/%s_%s/fl_tweets' % (since_date, until_date))\n",
    "        # Create New York subdirectory\n",
    "        os.mkdir('data/tweets/%s_%s/ny_tweets' % (since_date, until_date))\n",
    "        # Create Texas subdirectory\n",
    "        os.mkdir('data/tweets/%s_%s/tx_tweets' % (since_date, until_date))\n",
    "    except FileExistsError:\n",
    "        print(\"Directory for range %s to %s already exists.\" % (since_date, until_date))\n",
    "\n",
    "    ca_scraper(tweet_limit, since_date, until_date, display_all = display_all)\n",
    "    fl_scraper(tweet_limit, since_date, until_date, display_all = display_all)\n",
    "    ny_scraper(tweet_limit, since_date, until_date, display_all = display_all)\n",
    "    tx_scraper(tweet_limit, since_date, until_date, display_all = display_all)"
   ]
  },
  {
   "cell_type": "markdown",
   "id": "423a3608",
   "metadata": {
    "slideshow": {
     "slide_type": "skip"
    }
   },
   "source": [
    "## 1.3 Scraping over Date Ranges\n",
    "\n",
    "We've gone over search terms and locations. Now, we need to incorporate the date range. Our team has decided to scrape nine weeks worth of tweets between August 1st, 2021 to December 10th, 2021. To achieve this, we define a lower bound date ```current_start``` and upper bound date ```current_end```, scrape all states using this range, then move the boundaries up by seven days. This process results in over two million tweets getting scraped and filed into nine date range directories and four state directories per date range."
   ]
  },
  {
   "cell_type": "code",
   "execution_count": 44,
   "id": "ec307501",
   "metadata": {
    "slideshow": {
     "slide_type": "skip"
    }
   },
   "outputs": [
    {
     "name": "stdout",
     "output_type": "stream",
     "text": [
      "Directory for range 2021-08-01 to 2021-08-08 already exists.\n",
      "Compiling tweets (max <=1000) from California counties from 2021-08-01 to 2021-08-08\n",
      "START: 2021-12-13 22:45:21.929392\n",
      "END: 2021-12-13 22:49:52.254917\n",
      "11337 tweets processed\n",
      "Compiling tweets (max <=1000) from Florida counties from 2021-08-01 to 2021-08-08\n",
      "START: 2021-12-13 22:49:52.256917\n",
      "END: 2021-12-13 22:55:54.427091\n",
      "15639 tweets processed\n",
      "Compiling tweets (max <=1000) from New York counties from 2021-08-01 to 2021-08-08\n",
      "START: 2021-12-13 22:55:54.429094\n",
      "END: 2021-12-13 23:02:20.789729\n",
      "15682 tweets processed\n",
      "Compiling tweets (max <=1000) from Texas counties from 2021-08-01 to 2021-08-08\n",
      "START: 2021-12-13 23:02:20.791727\n",
      "END: 2021-12-14 00:11:28.287382\n",
      "207660 tweets processed\n",
      "Directory for range 2021-08-08 to 2021-08-15 already exists.\n",
      "Compiling tweets (max <=1000) from California counties from 2021-08-08 to 2021-08-15\n",
      "START: 2021-12-14 00:11:28.290381\n",
      "END: 2021-12-14 00:16:19.258796\n",
      "11342 tweets processed\n",
      "Compiling tweets (max <=1000) from Florida counties from 2021-08-08 to 2021-08-15\n",
      "START: 2021-12-14 00:16:19.260797\n",
      "END: 2021-12-14 00:22:25.680427\n",
      "15636 tweets processed\n",
      "Compiling tweets (max <=1000) from New York counties from 2021-08-08 to 2021-08-15\n",
      "START: 2021-12-14 00:22:25.683425\n",
      "END: 2021-12-14 00:28:59.549771\n",
      "15900 tweets processed\n",
      "Compiling tweets (max <=1000) from Texas counties from 2021-08-08 to 2021-08-15\n",
      "START: 2021-12-14 00:28:59.550774\n",
      "END: 2021-12-14 01:38:01.469187\n",
      "207639 tweets processed\n",
      "Directory for range 2021-08-15 to 2021-08-22 already exists.\n",
      "Compiling tweets (max <=1000) from California counties from 2021-08-15 to 2021-08-22\n",
      "START: 2021-12-14 01:38:01.471185\n",
      "END: 2021-12-14 01:42:58.220034\n",
      "11279 tweets processed\n",
      "Compiling tweets (max <=1000) from Florida counties from 2021-08-15 to 2021-08-22\n",
      "START: 2021-12-14 01:42:58.221041\n",
      "END: 2021-12-14 01:49:05.238965\n",
      "15496 tweets processed\n",
      "Compiling tweets (max <=1000) from New York counties from 2021-08-15 to 2021-08-22\n",
      "START: 2021-12-14 01:49:05.240970\n",
      "END: 2021-12-14 01:55:32.707196\n",
      "15423 tweets processed\n",
      "Compiling tweets (max <=1000) from Texas counties from 2021-08-15 to 2021-08-22\n",
      "START: 2021-12-14 01:55:32.709197\n",
      "END: 2021-12-14 03:05:44.779038\n",
      "207648 tweets processed\n",
      "Directory for range 2021-08-22 to 2021-08-29 does not exist. Creating now and populating...\n",
      "Compiling tweets (max <=1000) from California counties from 2021-08-22 to 2021-08-29\n",
      "START: 2021-12-14 03:05:44.783040\n",
      "END: 2021-12-14 03:10:46.093216\n",
      "11303 tweets processed\n",
      "Compiling tweets (max <=1000) from Florida counties from 2021-08-22 to 2021-08-29\n",
      "START: 2021-12-14 03:10:46.095216\n",
      "END: 2021-12-14 03:17:04.363183\n",
      "15488 tweets processed\n",
      "Compiling tweets (max <=1000) from New York counties from 2021-08-22 to 2021-08-29\n",
      "START: 2021-12-14 03:17:04.365182\n",
      "END: 2021-12-14 03:23:43.094820\n",
      "15660 tweets processed\n",
      "Compiling tweets (max <=1000) from Texas counties from 2021-08-22 to 2021-08-29\n",
      "START: 2021-12-14 03:23:43.096818\n",
      "END: 2021-12-14 04:34:37.528886\n",
      "207520 tweets processed\n",
      "Directory for range 2021-08-29 to 2021-09-05 does not exist. Creating now and populating...\n",
      "Compiling tweets (max <=1000) from California counties from 2021-08-29 to 2021-09-05\n",
      "START: 2021-12-14 04:34:37.533869\n",
      "END: 2021-12-14 04:40:08.086140\n",
      "11247 tweets processed\n",
      "Compiling tweets (max <=1000) from Florida counties from 2021-08-29 to 2021-09-05\n",
      "START: 2021-12-14 04:40:08.088139\n",
      "END: 2021-12-14 04:49:07.120812\n",
      "15401 tweets processed\n",
      "Compiling tweets (max <=1000) from New York counties from 2021-08-29 to 2021-09-05\n",
      "START: 2021-12-14 04:49:07.122827\n",
      "END: 2021-12-14 04:59:26.762411\n",
      "15384 tweets processed\n",
      "Compiling tweets (max <=1000) from Texas counties from 2021-08-29 to 2021-09-05\n",
      "START: 2021-12-14 04:59:26.764412\n",
      "END: 2021-12-14 06:32:52.647912\n",
      "207464 tweets processed\n",
      "Directory for range 2021-09-05 to 2021-09-12 does not exist. Creating now and populating...\n",
      "Compiling tweets (max <=1000) from California counties from 2021-09-05 to 2021-09-12\n",
      "START: 2021-12-14 06:32:52.652906\n",
      "END: 2021-12-14 06:37:55.626930\n",
      "11236 tweets processed\n",
      "Compiling tweets (max <=1000) from Florida counties from 2021-09-05 to 2021-09-12\n",
      "START: 2021-12-14 06:37:55.628931\n",
      "END: 2021-12-14 06:44:03.584712\n",
      "15314 tweets processed\n",
      "Compiling tweets (max <=1000) from New York counties from 2021-09-05 to 2021-09-12\n",
      "START: 2021-12-14 06:44:03.586712\n",
      "END: 2021-12-14 06:50:25.034600\n",
      "15317 tweets processed\n",
      "Compiling tweets (max <=1000) from Texas counties from 2021-09-05 to 2021-09-12\n",
      "START: 2021-12-14 06:50:25.035604\n",
      "END: 2021-12-14 07:58:58.967075\n",
      "207493 tweets processed\n",
      "Directory for range 2021-09-12 to 2021-09-19 does not exist. Creating now and populating...\n",
      "Compiling tweets (max <=1000) from California counties from 2021-09-12 to 2021-09-19\n",
      "START: 2021-12-14 07:58:58.971074\n",
      "END: 2021-12-14 08:03:54.507352\n",
      "11248 tweets processed\n",
      "Compiling tweets (max <=1000) from Florida counties from 2021-09-12 to 2021-09-19\n",
      "START: 2021-12-14 08:03:54.508359\n",
      "END: 2021-12-14 08:10:00.999511\n",
      "15353 tweets processed\n",
      "Compiling tweets (max <=1000) from New York counties from 2021-09-12 to 2021-09-19\n",
      "START: 2021-12-14 08:10:01.002506\n",
      "END: 2021-12-14 08:16:30.513651\n",
      "15533 tweets processed\n",
      "Compiling tweets (max <=1000) from Texas counties from 2021-09-12 to 2021-09-19\n",
      "START: 2021-12-14 08:16:30.515648\n",
      "END: 2021-12-14 09:29:26.881790\n",
      "207407 tweets processed\n",
      "Directory for range 2021-09-19 to 2021-09-26 does not exist. Creating now and populating...\n",
      "Compiling tweets (max <=1000) from California counties from 2021-09-19 to 2021-09-26\n",
      "START: 2021-12-14 09:29:26.885791\n",
      "END: 2021-12-14 09:34:08.102166\n",
      "11199 tweets processed\n",
      "Compiling tweets (max <=1000) from Florida counties from 2021-09-19 to 2021-09-26\n",
      "START: 2021-12-14 09:34:08.104165\n",
      "END: 2021-12-14 09:40:11.629312\n",
      "15349 tweets processed\n",
      "Compiling tweets (max <=1000) from New York counties from 2021-09-19 to 2021-09-26\n",
      "START: 2021-12-14 09:40:11.631311\n",
      "END: 2021-12-14 09:46:29.133652\n",
      "15420 tweets processed\n",
      "Compiling tweets (max <=1000) from Texas counties from 2021-09-19 to 2021-09-26\n",
      "START: 2021-12-14 09:46:29.135651\n",
      "END: 2021-12-14 10:54:27.690016\n",
      "207405 tweets processed\n"
     ]
    }
   ],
   "source": [
    "#----- WARNING------------------------------------------------------------------\n",
    "# RUNNING THIS CELL WILL START DATA COLLECTION. \n",
    "# RUNTIME = ~12 HOURS\n",
    "#----- WARNING------------------------------------------------------------------\n",
    "\n",
    "from datetime import timedelta\n",
    "\n",
    "start_time = datetime.strptime(\"2021-08-01\", \"%Y-%m-%d\")\n",
    "end_time = datetime.strptime(\"2021-08-08\", \"%Y-%m-%d\")\n",
    "\n",
    "weeks_count = 8\n",
    "\n",
    "# Scrape tweets from 08/01 to 09/26\n",
    "for i in range(weeks_count):\n",
    "    \n",
    "    current_start = (start_time + timedelta(days = i * 7)).strftime(\"%Y-%m-%d\")\n",
    "    current_end = (end_time + timedelta(days = i * 7)).strftime(\"%Y-%m-%d\")\n",
    "    \n",
    "    # Scrape 1000 tweets from each county of each state\n",
    "    scrape_all(1000, current_start, current_end)"
   ]
  },
  {
   "cell_type": "code",
   "execution_count": 90,
   "id": "b25aa097",
   "metadata": {
    "slideshow": {
     "slide_type": "skip"
    }
   },
   "outputs": [
    {
     "name": "stdout",
     "output_type": "stream",
     "text": [
      "Directory for range 2021-09-26 to 2021-10-03 already exists.\n",
      "Compiling tweets (max <=1000) from California counties from 2021-09-26 to 2021-10-03\n",
      "START: 2021-12-14 14:49:45.425344\n",
      "END: 2021-12-14 14:54:52.643010\n",
      "11212 tweets processed\n",
      "Compiling tweets (max <=1000) from Florida counties from 2021-09-26 to 2021-10-03\n",
      "START: 2021-12-14 14:54:52.645012\n",
      "END: 2021-12-14 15:01:11.346188\n",
      "15372 tweets processed\n",
      "Compiling tweets (max <=1000) from New York counties from 2021-09-26 to 2021-10-03\n",
      "START: 2021-12-14 15:01:11.348183\n",
      "END: 2021-12-14 15:07:36.329638\n",
      "15286 tweets processed\n",
      "Compiling tweets (max <=1000) from Texas counties from 2021-09-26 to 2021-10-03\n",
      "START: 2021-12-14 15:07:36.331634\n",
      "END: 2021-12-14 16:18:25.143407\n",
      "207299 tweets processed\n"
     ]
    }
   ],
   "source": [
    "#----- WARNING------------------------------------------------------------------\n",
    "# RUNNING THIS CELL WILL START DATA COLLECTION. \n",
    "# RUNTIME = ~1 HOURS\n",
    "#----- WARNING------------------------------------------------------------------\n",
    "\n",
    "# One more week for 2 million entries\n",
    "# Scrape from 09/26 to 10/03 \n",
    "\n",
    "current_start = (start_time + timedelta(days = 8 * 7)).strftime(\"%Y-%m-%d\")\n",
    "current_end = (end_time + timedelta(days = 8 * 7)).strftime(\"%Y-%m-%d\")\n",
    "    \n",
    "# Scrape 1000 tweets from each county of each state\n",
    "scrape_all(1000, current_start, current_end)"
   ]
  },
  {
   "cell_type": "markdown",
   "id": "82668c5f",
   "metadata": {
    "slideshow": {
     "slide_type": "skip"
    }
   },
   "source": [
    "The snippet below sums up all the tweets scraped across all states. We have gathered 2,248,336 tweets mentioning COVID-19 across California, Florida, New York, and Texas. "
   ]
  },
  {
   "cell_type": "code",
   "execution_count": 6,
   "id": "7e6eb40e",
   "metadata": {
    "slideshow": {
     "slide_type": "skip"
    }
   },
   "outputs": [
    {
     "name": "stdout",
     "output_type": "stream",
     "text": [
      "2021-08-01 to 2021-08-08 tweets = 250394\n",
      "2021-08-08 to 2021-08-15 tweets = 250597\n",
      "2021-08-15 to 2021-08-22 tweets = 249925\n",
      "2021-08-22 to 2021-08-29 tweets = 250056\n",
      "2021-08-29 to 2021-09-05 tweets = 249586\n",
      "2021-09-05 to 2021-09-12 tweets = 249439\n",
      "2021-09-12 to 2021-09-19 tweets = 249623\n",
      "2021-09-19 to 2021-09-26 tweets = 249460\n",
      "2021-09-26 to 2021-10-03 tweets = 249256\n",
      "Total tweets = 2248336\n"
     ]
    }
   ],
   "source": [
    "from datetime import timedelta\n",
    "\n",
    "counties = {}\n",
    "\n",
    "for abbr in ST_ABBR:\n",
    "    \n",
    "    csv = pd.read_csv(\"data/counties/\" + abbr + \"_counties.csv\")\n",
    "\n",
    "    counties[abbr] = []\n",
    "    \n",
    "    for i in range(len(csv)):\n",
    "\n",
    "        county = csv.iloc[i]['County']\n",
    "        county.strip()\n",
    "        \n",
    "        counties[abbr].append(county)\n",
    "                \n",
    "start_time = datetime.strptime(\"2021-08-01\", \"%Y-%m-%d\")\n",
    "end_time = datetime.strptime(\"2021-08-08\", \"%Y-%m-%d\")\n",
    "\n",
    "range_total = 0\n",
    "total_tweets = 0\n",
    "\n",
    "weeks_count = 9\n",
    "\n",
    "for i in range(weeks_count):\n",
    "    \n",
    "    range_total = 0\n",
    "    \n",
    "    current_start = (start_time + timedelta(days = i * 7)).strftime(\"%Y-%m-%d\")\n",
    "    current_end = (end_time + timedelta(days = i * 7)).strftime(\"%Y-%m-%d\")\n",
    "    \n",
    "    for abbr in ST_ABBR:\n",
    "        \n",
    "        for county in counties[abbr]:\n",
    "            for line in open('data/tweets/%s_%s/%s_tweets/%s.json' % (current_start, current_end, abbr, county)):\n",
    "                range_total += 1\n",
    "                total_tweets += 1\n",
    "    print('%s to %s tweets = %d' % (current_start, current_end, range_total))\n",
    "    \n",
    "print('Total tweets = %d' % total_tweets)       "
   ]
  },
  {
   "cell_type": "code",
   "execution_count": 92,
   "id": "61eedcca",
   "metadata": {
    "scrolled": false,
    "slideshow": {
     "slide_type": "skip"
    }
   },
   "outputs": [],
   "source": [
    "# Combining Each States Json Tweet files to a single pandas dataframe\n",
    "import re\n",
    "\n",
    "def file_paths(folder_path):\n",
    "    # Stack overflow solution to finding only files in a directory using os.walk, previous attempt used listdir.\n",
    "    # Article: https://stackoverflow.com/questions/52338706/isadirectoryerror-errno-21-is-a-directory-it-is-a-file\n",
    "    path_list = [os.path.join(path, file) \n",
    "                      for path, directory, files in os.walk(folder_path) for file in files]\n",
    "    return path_list\n",
    "\n",
    "# Combine JSON files for efficiency then make a single dataframe.\n",
    "\n",
    "# Take tweet from tweet folder.\n",
    "# json_folder_path is the folder path containing the json files like ca_tweets.\n",
    "def json_to_dataFrame(json_folder_path, json_folder_list, output_file):\n",
    "    file_path_list = []\n",
    "    for json_folder in json_folder_list:\n",
    "        file_path_list.extend(file_paths('data/tweets/' + json_folder + json_folder_path))\n",
    " \n",
    "    combined_json_file = 'data/tweets/results/' + output_file\n",
    "# Stack overflow solution for combining json files. Combining json files was suggested as more efficient than\n",
    "#  dataframes. Combines the json files into record oreint/format. \n",
    "# Article: https://stackoverflow.com/questions/23520542/issue-with-merging-multiple-json-files-in-python\n",
    "    with open(combined_json_file, 'w') as combined_files:\n",
    "        combined_files.write(\"{}\".format(\"\".join([open(file, \"r\").read() for file in file_path_list])))\n",
    "# Dataframe using orient records because this was the specific formating used to collect the data. \n",
    "    dataframe = pd.read_json(combined_json_file, lines=True, orient='records')\n",
    "\n",
    "    return dataframe\n",
    "\n",
    "folder_list = ['2021-08-01_2021-08-08/', '2021-08-08_2021-08-15/', '2021-08-15_2021-08-22/', \n",
    "               '2021-08-22_2021-08-29/', '2021-08-29_2021-09-05/', '2021-09-05_2021-09-12/', \n",
    "               '2021-09-12_2021-09-19/', '2021-09-19_2021-09-26/', '2021-09-26_2021-10-03/']"
   ]
  },
  {
   "cell_type": "markdown",
   "id": "dd5052df",
   "metadata": {
    "slideshow": {
     "slide_type": "slide"
    }
   },
   "source": [
    "### State Covid 19 Case Data Sources\n",
    "\n",
    "- We've collected our State Covid 19 Case data from two sources.\n",
    "    - Official State Websites\n",
    "    - Centers for Disease Control(CDC)\n",
    "- The main reason was to make the automation of our data visualization easier. \n",
    "    - All of our data is from comma-separated value(CSV) files\n",
    "    - All the data has a date, county, and case/positive test columns\n",
    "- California and New York had their data listed on their website in the format we wanted.\n",
    "- Texas and Florida didn't:\n",
    "    - We took their information from the CDC\n",
    "    - With this we can technically automate all or our Covid 19 Case data \n"
   ]
  },
  {
   "cell_type": "markdown",
   "id": "48144fa5",
   "metadata": {
    "slideshow": {
     "slide_type": "slide"
    }
   },
   "source": [
    "### Dealing with Tweet Json Files\n",
    "\n",
    "- Upon scrapping the Tweet data from Twitter we organized the data into folders referencing the weeks they were scrapped from.\n",
    "<div>\n",
    "    <img src='data/images/week_formated_folder.png' alt='Week Formated Folders', width='900'}/>\n",
    "</div>\n",
    "- We combined the individual county files using our json_to_dataFrame function for each State.\n",
    "\n",
    "``` python \n",
    "    ca_df = json_to_dataFrame('ca_tweets', folder_list, 'ca_results.json') \n",
    "```"
   ]
  },
  {
   "cell_type": "markdown",
   "id": "8c3d29f5",
   "metadata": {
    "slideshow": {
     "slide_type": "slide"
    }
   },
   "source": [
    "### Dealing with Tweet Json Files : Texas Specific\n",
    "\n",
    "- That being said, for the Texas Tweets, to reduce the time constraints for the sentiment analysis we combined the county Tweets for each week instead of all of them.\n",
    "    - Our previously mentioned ``` json_to_dataFrame ``` function was able to still collect every tweet during a single week instead of the full nine:\n",
    "    ```python\n",
    "    json_to_dataFrame('tx1_tweets', [week_1], 'tx1_results.json') \n",
    "    ```\n",
    "- In Comparison to the other States, Texas alone accounted for 83% of our Twitter data.\n",
    "<div>\n",
    "    <img src='data/images/texas_tweet_comparison.png' alt='Texas Comparison' width='500'/>\n",
    "</div>"
   ]
  },
  {
   "cell_type": "code",
   "execution_count": 5,
   "id": "dae3ae16",
   "metadata": {
    "slideshow": {
     "slide_type": "skip"
    }
   },
   "outputs": [],
   "source": [
    "# Sentiment testing with HuggingFace\n",
    "# Pip install the transfomers with Pytorch specifically. \n",
    "# !pip install transformers[torch]\n",
    "from transformers import pipeline\n",
    "\n",
    "def sentiment_analysis(dataframe):\n",
    "    # Added print timeframe from State Scrapper\n",
    "    print(\"START: \" + str(datetime.datetime.now())[11:19])\n",
    "    \n",
    "    # Construct pipeline using sentiment-analysis to mesaure \"sentiment\" of tweet content\n",
    "    classifier = pipeline(\"sentiment-analysis\", model='distilbert-base-uncased-finetuned-sst-2-english')\n",
    "\n",
    "    # Create empty list to collect sentiment values\n",
    "    sentiment_list = []\n",
    "    # For loop to take twitter content and analyze for sentiment values.\n",
    "    for content in dataframe['content']:\n",
    "        content_sentiment = classifier(content)\n",
    "        # # Formated sentiment score\n",
    "        # content_sentiment[0]['score'] = \"{:.2f}%\".format(content_sentiment[0]['score'] * 100)\n",
    "        # # Append each new content sentiment to the list.\n",
    "        # sentiment_list.append(content_sentiment[0])\n",
    "        sentiment_list.append(content_sentiment[0]['label'])\n",
    "        \n",
    "    # Copy dataframe\n",
    "    df_copy = dataframe.copy()\n",
    "    \n",
    "    # Added print timeframe from State Scrapper\n",
    "    print(\"End: \" + str(datetime.datetime.now())[11:19])\n",
    "    # assign the new sentiment list values to the dataframe titled sentiment\n",
    "    return df_copy.assign(sentiment = sentiment_list)"
   ]
  },
  {
   "cell_type": "markdown",
   "id": "19cafaab",
   "metadata": {
    "slideshow": {
     "slide_type": "slide"
    }
   },
   "source": [
    "### Analyzing Sentiment of Twitter Content\n",
    "\n",
    "- This portion of our project was the most time intensive. On average the Hugging Face sentiment analysis took around two hours to analyze 100K records.\n",
    "    - For reference: \n",
    "        - ***California*** took 126 minutes (2 hours & 6 minutes) to process 101,403 records: **~805 records/minute**\n",
    "        - ***Florida*** took 172 minutes (2 hours & 52 minutes) to process 139,048 records: **~808 records/minute**\n",
    "        - ***New York*** took 170 minutes (2 hours & 50 minutes) to process 139,605 records: **~821 records/minute**\n",
    "    - We can't say for certain that this trend is accurate since it doesn't take certain factors such as the average Tweet content length into account for each State.  "
   ]
  },
  {
   "cell_type": "markdown",
   "id": "1da6f110",
   "metadata": {
    "slideshow": {
     "slide_type": "slide"
    }
   },
   "source": [
    "### Analyzing Sentiment of Twitter Content: continued\n",
    "\n",
    "- We automated the analysis process by using our ```sentiment_analysis()``` function.\n",
    "    - It takes a Pandas dataframe and returns one with a sentiment column identifying NEGATIVE or POSITIVE Tweets.\n",
    "    - We saved the sentiment data into a CSV file for future use.\n",
    "    ```python\n",
    "        ca_sentiment_df = sentiment_analysis(ca_df)\n",
    "        ca_sentiment_df.to_csv('data/tweets/sentiment/cs_sentiment.csv', index=False)\n",
    "        ca_sentiment.head()\n",
    "    ```\n",
    "<div>\n",
    "    <img src='data/images/sentiment_analyzed_data.png' alt='Sentiment Analyzed Data Ex.' width='800'/>\n",
    "</div>"
   ]
  },
  {
   "cell_type": "code",
   "execution_count": 6,
   "id": "0ada533e",
   "metadata": {
    "slideshow": {
     "slide_type": "slide"
    }
   },
   "outputs": [],
   "source": [
    "ca_sentiment_df = pd.read_csv('data/tweets/sentiment/ca_sentiment.csv')\n",
    "# ca_sentiment_df.head()"
   ]
  },
  {
   "cell_type": "code",
   "execution_count": 7,
   "id": "eebf7e49",
   "metadata": {
    "slideshow": {
     "slide_type": "slide"
    }
   },
   "outputs": [],
   "source": [
    "fl_sentiment_df = pd.read_csv('data/tweets/sentiment/fl_sentiment.csv')\n",
    "# fl_sentiment_df.head()"
   ]
  },
  {
   "cell_type": "code",
   "execution_count": 8,
   "id": "9a400d46",
   "metadata": {
    "slideshow": {
     "slide_type": "slide"
    }
   },
   "outputs": [],
   "source": [
    "ny_sentiment_df = pd.read_csv('data/tweets/sentiment/ny_sentiment.csv')\n",
    "# ny_sentiment_df.head()"
   ]
  },
  {
   "cell_type": "markdown",
   "id": "69a75e6f",
   "metadata": {
    "slideshow": {
     "slide_type": "slide"
    }
   },
   "source": [
    "### Analyzing Sentiment of Twitter Content: Issue with Texas Data\n",
    "\n",
    "- Because of the sheer amount of Tweets, the Texas data was treated slightly differently.\n",
    "    - The individual weeks were analyzed requiring us to combine the separate sentiment files before proceeding.\n",
    "<div>\n",
    "    <img src='data/images/tx_sentiment_files.png', alt='Texas Sentiment Files' width='700'/>\n",
    "</div>\n",
    "    - For this reason we wrote a ``` combine_sentiment_csv ``` function for this situations and can be repurposed for the future.\n",
    "- This resulted in a single 2 GB ``` 'tx_sentiment.csv' ``` file using:\n",
    "    ```python\n",
    "    combine_sentiment_csv('data/tweets/sentiment', 'tx_sentiment.csv', 'tx')\n",
    "    ```"
   ]
  },
  {
   "cell_type": "code",
   "execution_count": 9,
   "id": "91ddcef5",
   "metadata": {
    "slideshow": {
     "slide_type": "skip"
    }
   },
   "outputs": [],
   "source": [
    "# Take tweet from tweet folder.\n",
    "# json_folder_path is the folder path containing the json files like ca_tweets.\n",
    "def combine_sentiment_csv(csv_folder_path, output_file, state_ab):\n",
    "    file_path_list = []\n",
    "    file_path_list.extend(file_paths(csv_folder_path))\n",
    "    new_path_list = []\n",
    "    i = 0\n",
    "    for file in file_path_list:\n",
    "        if state_ab in file:\n",
    "            new_path_list.append(file)\n",
    "    new_path_list.sort()\n",
    "    new_csv_path = 'data/tweets/sentiment/' + output_file\n",
    "    with open(new_csv_path, 'w') as output:\n",
    "        for i in range(len(new_path_list)):\n",
    "            if i == 0:\n",
    "                file = open(new_path_list[i]) \n",
    "            else:\n",
    "                file = open(new_path_list[i])\n",
    "                next(file)\n",
    "            for line in file:\n",
    "                output.write(line)"
   ]
  },
  {
   "cell_type": "code",
   "execution_count": 10,
   "id": "a06c8c0a",
   "metadata": {
    "slideshow": {
     "slide_type": "slide"
    }
   },
   "outputs": [],
   "source": [
    "tx_sentiment_df = pd.read_csv('data/tweets/sentiment/tx_sentiment.csv')\n",
    "# tx_sentiment_df"
   ]
  },
  {
   "cell_type": "markdown",
   "id": "a09c6dbc",
   "metadata": {
    "slideshow": {
     "slide_type": "slide"
    }
   },
   "source": [
    "### Data Formatting Issue\n",
    "\n",
    "- An issue we faced before visualizing our data graphically involved the date's in the ``` 'date' ``` column. \n",
    "    - Original Format: ``` Year-Month-Day Hour:Minute:Seconds ```\n",
    "- We're grouping our data by days so the specific time wasn't necessary. \n",
    "- Using our ``` datetime_to_date ``` function we could deal with that.\n",
    "    - New Format: ``` Year-Month-Day ```\n",
    "- Side note, depending on whether you load the sentiment data from the saved csv files the format may be strings or datetime objects, our code accomadates for this.\n",
    "    <div>\n",
    "        <img src='data/images/datetime_to_date_function.png' alt='datetime_to_date function' width='500'/>\n",
    "    </div>"
   ]
  },
  {
   "cell_type": "code",
   "execution_count": 11,
   "id": "0e02e5d6",
   "metadata": {
    "slideshow": {
     "slide_type": "slide"
    }
   },
   "outputs": [],
   "source": [
    "# Fix date column to remove time from datetime for data visualization\n",
    "def datetime_to_date(dataframe2):\n",
    "    print(\"Start: \" + str(datetime.datetime.now())[11:])\n",
    "    df2_copy = dataframe2.copy()\n",
    "    datetime_list = []\n",
    "    for dt in dataframe2['date']:\n",
    "        # # Uncomment Line below for datetime to date conversion\n",
    "        # datetime_list.append(dt.date())\n",
    "        # # Comment Line below for datetime to date conversion\n",
    "        datetime_list.append(dt[:10])\n",
    "    new_date = pd.DataFrame(data={'date' : datetime_list})\n",
    "    df2_copy['date'] = new_date['date']\n",
    "    print(\"End: \" + str(datetime.datetime.now())[11:])\n",
    "    return df2_copy"
   ]
  },
  {
   "cell_type": "code",
   "execution_count": 12,
   "id": "b9770935",
   "metadata": {
    "slideshow": {
     "slide_type": "slide"
    }
   },
   "outputs": [
    {
     "name": "stdout",
     "output_type": "stream",
     "text": [
      "Start: 22:12:58.623589\n",
      "End: 22:12:58.674617\n"
     ]
    }
   ],
   "source": [
    "ca_date_formatted_df = datetime_to_date(ca_sentiment_df)"
   ]
  },
  {
   "cell_type": "code",
   "execution_count": 13,
   "id": "c0508f5e",
   "metadata": {
    "slideshow": {
     "slide_type": "slide"
    }
   },
   "outputs": [
    {
     "name": "stdout",
     "output_type": "stream",
     "text": [
      "Start: 22:12:59.170500\n",
      "End: 22:12:59.242136\n"
     ]
    }
   ],
   "source": [
    "fl_date_formatted_df = datetime_to_date(fl_sentiment_df)"
   ]
  },
  {
   "cell_type": "code",
   "execution_count": 14,
   "id": "02bfc8d5",
   "metadata": {
    "slideshow": {
     "slide_type": "slide"
    }
   },
   "outputs": [
    {
     "name": "stdout",
     "output_type": "stream",
     "text": [
      "Start: 22:12:59.713000\n",
      "End: 22:12:59.791001\n"
     ]
    }
   ],
   "source": [
    "ny_date_formatted_df = datetime_to_date(ny_sentiment_df)"
   ]
  },
  {
   "cell_type": "code",
   "execution_count": 15,
   "id": "ffb3a640",
   "metadata": {
    "slideshow": {
     "slide_type": "slide"
    }
   },
   "outputs": [
    {
     "name": "stdout",
     "output_type": "stream",
     "text": [
      "Start: 22:13:00.341740\n",
      "End: 22:13:01.025256\n"
     ]
    }
   ],
   "source": [
    "tx_date_formatted_df = datetime_to_date(tx_sentiment_df)"
   ]
  },
  {
   "cell_type": "markdown",
   "id": "6fc3f60a",
   "metadata": {
    "slideshow": {
     "slide_type": "slide"
    }
   },
   "source": [
    "## Graphical Data Visualization and Summary Stats\n",
    "\n",
    "- Going forward we graphically visualized our two groups of data using matplotlib\n",
    "    - The Sentiment data is visualized using bar graphs\n",
    "        - mapping the number of ***NEGATIVE*** & ***POSITIVE Tweets*** per week\n",
    "    - The Covid 19 Case data is visualized using line graphs\n",
    "        - mapping the number of ***Cases*** per week\n"
   ]
  },
  {
   "cell_type": "markdown",
   "id": "5e65c96e",
   "metadata": {
    "slideshow": {
     "slide_type": "slide"
    }
   },
   "source": [
    "### Sentiment Visulaization\n",
    "\n",
    "- We chose to visualize the sentiment of each States Tweets over the 9 weeks separately.\n",
    "    - We'll showcase California, Florida, New York, and Texas in that order\n",
    "    - This visualization uses bar graphs because we wanted to compare the sentiment of the Tweets over the 9 weeks.\n",
    "- Each graph visually represents the total ***POSITIVE*** and ***NEGATIVE Tweets*** as either ***blue*** or ***red*** bars for each week.\n",
    "- It should be noted that we chose to separate the graphes because of the number of total tweets collected from each State varied greatly over the 9 weeks.\n",
    "    - I.e. Week 4: 11,303 (California) vs 207,520 (Texas) tweets"
   ]
  },
  {
   "cell_type": "code",
   "execution_count": 16,
   "id": "7e0c3492",
   "metadata": {
    "slideshow": {
     "slide_type": "slide"
    }
   },
   "outputs": [],
   "source": [
    "import matplotlib.pyplot as plt\n",
    "import datetime\n",
    "\n",
    "list_of_dates = []\n",
    "negative_x = []\n",
    "x_tick_labels = []\n",
    "# Visualizes data based on formatted dataframes for date and sentiment...\n",
    "def sentiment_visualization(formatted_df, state):\n",
    "    # Seperate the data based on sentiment.\n",
    "    neg_sentiment_df = formatted_df.loc[formatted_df['sentiment']=='NEGATIVE']\n",
    "    pos_sentiment_df = formatted_df.loc[formatted_df['sentiment']=='POSITIVE']\n",
    "    # Collect unique date values\n",
    "    neg_set_of_dates = set(neg_sentiment_df['date'])\n",
    "    pos_set_of_dates = set(pos_sentiment_df['date'])\n",
    "    set_of_dates = neg_set_of_dates.union(pos_set_of_dates)\n",
    "    # added an additional date value at the end to assist in visualization issues during development.\n",
    "#     set_of_dates.add(max(set_of_dates) + datetime.timedelta(days=1))\n",
    "    set_of_dates.add(max(set_of_dates))\n",
    "    # Sort dates\n",
    "    list_of_dates = sorted(list(set_of_dates))\n",
    "    # Create X and Y values lists for Negative sentiments.\n",
    "    negative_x = []\n",
    "    negative_y = []\n",
    "    x_value = 0\n",
    "    y_value = 0\n",
    "    for i in range(len(list_of_dates)+1):\n",
    "        if (i>0 and i%7 == 0) and i < len(list_of_dates):\n",
    "            negative_x.append(int((x_value)/7))\n",
    "            negative_y.append(y_value)\n",
    "            x_value = x_value + 1\n",
    "            y_value = len(neg_sentiment_df.loc[formatted_df['date'] == list_of_dates[i]])\n",
    "        elif i == len(list_of_dates):\n",
    "            negative_x.append(int((x_value)/7))\n",
    "            negative_y.append(y_value)\n",
    "        else:\n",
    "            x_value = x_value + 1\n",
    "            y_value = y_value + len(neg_sentiment_df.loc[formatted_df['date'] == list_of_dates[i]])\n",
    "    # Create X and Y values lists for Positive sentiments.\n",
    "    positive_x = []\n",
    "    positive_y = []\n",
    "    x_value = 0\n",
    "    y_value = 0\n",
    "    for i in range(len(list_of_dates)+1):\n",
    "        if (i>0 and i%7 == 0) and i < len(list_of_dates):\n",
    "            positive_x.append(int((x_value)/7) - 0.5)\n",
    "            positive_y.append(y_value)\n",
    "            x_value = x_value + 1\n",
    "            y_value = len(pos_sentiment_df.loc[formatted_df['date'] == list_of_dates[i]])\n",
    "        elif i == len(list_of_dates):\n",
    "            positive_x.append(int((x_value+1)/7) - 0.5)\n",
    "            positive_y.append(y_value)\n",
    "        else:\n",
    "            x_value = x_value + 1\n",
    "            y_value = y_value + len(pos_sentiment_df.loc[formatted_df['date'] == list_of_dates[i]])\n",
    "    # Reference: https://stackoverflow.com/questions/30228069/how-to-display-the-value-of-\n",
    "    # the-bar-on-each-bar-with-pyplot-barh\n",
    "    # User: Franck Dernoncourt\n",
    "    # Code referenced for textual values in the bar graph\n",
    "    \n",
    "    # Create plot and assign figure size\n",
    "    fig, axs = plt.subplots(figsize=(20,6))\n",
    "    # Convert datetime dates to strings to assign to the 'x ticks' on the plot graph\n",
    "    x_tick_labels = ['Week 1', 'Week 2', 'Week 3', 'Week 4', 'Week 5', 'Week 6', 'Week 7', 'Week 8', 'Week 9']\n",
    "\n",
    "    # General bar width\n",
    "    bar_widths = 0.25\n",
    "    # Seperatly creating both bar plots and assign to the same subplot\n",
    "    negative_bar = axs.bar(negative_x, negative_y, width=1/2, align='edge', color='red', \n",
    "                           label='Negative')\n",
    "    positive_bar = axs.bar(positive_x, positive_y, width=1/2, align='edge', color='blue', \n",
    "                           label='Positive')\n",
    "    # Label bar graph values\n",
    "    barlabels(negative_bar, axs)\n",
    "    barlabels(positive_bar, axs)\n",
    "    # Label x tick values\n",
    "    plt.xticks(negative_x, x_tick_labels)\n",
    "    axs.set_title((state + ' Sentiment Visulaization'), fontsize=20)\n",
    "    axs.set_xlabel('Weeks 1-9 (Aug 01 - Oct 03)', fontsize=16)\n",
    "    axs.set_ylabel('Sentiment Counts', fontsize=16)\n",
    "    plt.legend()\n",
    "    plt.show()\n",
    "    return list_of_dates, negative_x, x_tick_labels\n",
    "# Function used to label the bar graph values \n",
    "def barlabels(bar_graph, axs):\n",
    "    for bar in bar_graph:\n",
    "        if bar.get_height() > 0:\n",
    "            bar_height = bar.get_height()\n",
    "            axs.text(bar.get_x() + bar.get_width()/2, bar_height, '%d' % int(bar_height),\n",
    "                     ha='center', va='bottom')"
   ]
  },
  {
   "cell_type": "code",
   "execution_count": 17,
   "id": "70640365",
   "metadata": {
    "slideshow": {
     "slide_type": "slide"
    }
   },
   "outputs": [
    {
     "data": {
      "image/png": "[encoded data removed]",
      "text/plain": [
       "<Figure size 1440x432 with 1 Axes>"
      ]
     },
     "metadata": {
      "needs_background": "light"
     },
     "output_type": "display_data"
    }
   ],
   "source": [
    "ca_date_list, ca_x_list, ca_x_labels = sentiment_visualization(ca_date_formatted_df, 'California')"
   ]
  },
  {
   "cell_type": "code",
   "execution_count": 18,
   "id": "5ced42fe",
   "metadata": {
    "slideshow": {
     "slide_type": "slide"
    }
   },
   "outputs": [
    {
     "data": {
      "image/png": "[encoded data removed]",
      "text/plain": [
       "<Figure size 1440x432 with 1 Axes>"
      ]
     },
     "metadata": {
      "needs_background": "light"
     },
     "output_type": "display_data"
    }
   ],
   "source": [
    "fl_date_list, fl_x_list, fl_x_labels = sentiment_visualization(fl_date_formatted_df, 'Florida')"
   ]
  },
  {
   "cell_type": "code",
   "execution_count": 19,
   "id": "484e752a",
   "metadata": {
    "slideshow": {
     "slide_type": "slide"
    }
   },
   "outputs": [
    {
     "data": {
      "image/png": "[encoded data removed]",
      "text/plain": [
       "<Figure size 1440x432 with 1 Axes>"
      ]
     },
     "metadata": {
      "needs_background": "light"
     },
     "output_type": "display_data"
    }
   ],
   "source": [
    "ny_date_list, ny_x_list, ny_x_labels = sentiment_visualization(ny_date_formatted_df, 'New York')"
   ]
  },
  {
   "cell_type": "code",
   "execution_count": 20,
   "id": "c4adeab5",
   "metadata": {
    "slideshow": {
     "slide_type": "slide"
    }
   },
   "outputs": [
    {
     "data": {
      "image/png": "[encoded data removed]",
      "text/plain": [
       "<Figure size 1440x432 with 1 Axes>"
      ]
     },
     "metadata": {
      "needs_background": "light"
     },
     "output_type": "display_data"
    }
   ],
   "source": [
    "tx_date_list, tx_x_list, tx_x_labels = sentiment_visualization(tx_date_formatted_df, 'Texas')"
   ]
  },
  {
   "cell_type": "markdown",
   "id": "22a997fb",
   "metadata": {
    "slideshow": {
     "slide_type": "slide"
    }
   },
   "source": [
    "### Covid 19 State Case Visualization\n",
    "\n",
    "- Similar to the sentiment visualization, we chose to seperate the Covid 19 case data for consistency reasons.\n",
    "    - In this case, we chose to visualize the data as line graphs to showcase a change in the trend of cases.\n",
    "- Unlike the sentiment visualization, each State's Covid 19 Case data wasn't formatted the same requiring different methods of producing the graphical visualizations.\n",
    "    - Thanks to this, we produced two visualization functions:\n",
    "        - ``` cdc_state_case_visualization ```\n",
    "        - ``` state_case_visualization ```\n",
    "    - The former is written for any CDC State case file in mind while the latter functions around any State case file with defined case, county, and date columns. "
   ]
  },
  {
   "cell_type": "code",
   "execution_count": 21,
   "id": "9e91766a",
   "metadata": {
    "slideshow": {
     "slide_type": "skip"
    }
   },
   "outputs": [],
   "source": [
    "def str_to_date(covid_dataframe, column_name, date_format):\n",
    "    c_df_copy = covid_dataframe.copy()\n",
    "    new_date_list = []\n",
    "    for dt in covid_dataframe[column_name]:\n",
    "        new_date_list.append(datetime.datetime.strptime(dt, date_format))\n",
    "    new_date_df = pd.DataFrame(data={'date' : new_date_list})\n",
    "    c_df_copy[column_name] = new_date_df['date']\n",
    "    c_df_copy = c_df_copy.rename(columns={column_name: \"date\"})\n",
    "    return c_df_copy\n",
    "\n",
    "def cdc_state_case_visualization(cases_df, date_list, x_list, x_labels, state, axs_name):\n",
    "    cases_list = []\n",
    "    # Iterate through the list of days \n",
    "    week_count = 0\n",
    "    index = 1\n",
    "    for date in date_list:\n",
    "    # Select case data based on the defined days\n",
    "        if index%7 == 0 and index < len(date_list):\n",
    "            cases_list.append(week_count)\n",
    "            index = index + 1\n",
    "            week_count = int(cases_df.loc[cases_df[\"date\"] == str(date)]['New Cases'])\n",
    "        elif index == len(date_list):\n",
    "            week_count = week_count + int(cases_df.loc[cases_df[\"date\"] == str(date)]['New Cases'])\n",
    "            cases_list.append(week_count)\n",
    "        else:\n",
    "            week_count = week_count + int(cases_df.loc[cases_df[\"date\"] == str(date)]['New Cases'])\n",
    "            index = index + 1\n",
    "\n",
    "    # Testing graphical output of matplotlib... \n",
    "    # Line Graph version\n",
    "    cases_line = axs_name.plot(x_list, cases_list, 'o-', alpha=0.4, color='black', label='Cases')\n",
    "\n",
    "    for point in range(int(len(ca_date_list)/7)):\n",
    "        axs_name.annotate('%d' % int(cases_list[point]), xy=((point+1), 1.01*cases_list[point]))\n",
    "\n",
    "    fl_cases_axs.set_title(state + ' Cases', fontsize=20)\n",
    "    fl_cases_axs.set_xlabel('Dates', fontsize=16)\n",
    "    fl_cases_axs.set_ylabel('Case Counts', fontsize=16)\n",
    "    plt.xticks(x_list, x_labels)\n",
    "    plt.legend()\n",
    "    plt.show()\n",
    "    \n",
    "def state_case_visualization(cases_df, counties_list, date_list, x_list, x_labels, county_label,\n",
    "                             cases_label, state, axs_name):\n",
    "    cases_list = []\n",
    "    # Iterate through the list of days \n",
    "    week_count = 0\n",
    "    index = 1\n",
    "    for date in date_list:\n",
    "    # Select case data based on the defined Counties and days\n",
    "        if index%7 == 0 and index < len(date_list):\n",
    "            index = index + 1\n",
    "            cases_list.append(week_count)\n",
    "            formatted_covid_df = cases_df[cases_df['date'].isin([str(date)])]\n",
    "            county_covid_cases = formatted_covid_df[formatted_covid_df[county_label].isin(list(counties_list['County']))]\n",
    "            week_count = int(sum(list(county_covid_cases[cases_label])))\n",
    "        elif index == len(date_list):\n",
    "            formatted_covid_df = cases_df[cases_df['date'].isin([str(date)])]\n",
    "            county_covid_cases = formatted_covid_df[formatted_covid_df[county_label].isin(list(counties_list['County']))]\n",
    "            week_count = week_count + int(sum(list(county_covid_cases[cases_label])))\n",
    "            cases_list.append(week_count)\n",
    "        else: \n",
    "            index = index + 1\n",
    "            formatted_covid_df = cases_df[cases_df['date'].isin([str(date)])]\n",
    "            county_covid_cases = formatted_covid_df[formatted_covid_df[county_label].isin(list(counties_list['County']))]\n",
    "            week_count = week_count + int(sum(list(county_covid_cases[cases_label])))\n",
    "\n",
    "    # Line Graph version\n",
    "    cases_line = axs_name.plot(x_list, cases_list, 'o-', alpha=0.4, color='black', label='Cases')\n",
    "    # Reference: https://stackoverflow.com/questions/22272081/label-python-data-points-on-plot\n",
    "    # User: falsetru\n",
    "    for point in range(int(len(date_list)/7)):\n",
    "        axs_name.annotate('%d' % int(cases_list[point]), xy=((point+1), 1.01*cases_list[point]))\n",
    "    # # Bar Graph equivalence.\n",
    "    # cases_bar = axs_name.bar(x_list, cases_list, width= 0.5, alpha=0.4, color='black', label='Cases')\n",
    "    # barlabels(cases_bar, axs_name)\n",
    "\n",
    "    axs_name.set_title(state + ' Cases', fontsize=20)\n",
    "    axs_name.set_xlabel('Dates', fontsize=16)\n",
    "    axs_name.set_ylabel('Case Counts', fontsize=16)\n",
    "    plt.xticks(x_list, x_labels)\n",
    "    plt.legend()\n",
    "    plt.show()"
   ]
  },
  {
   "cell_type": "code",
   "execution_count": 30,
   "id": "b40bb3e5",
   "metadata": {
    "slideshow": {
     "slide_type": "slide"
    }
   },
   "outputs": [
    {
     "name": "stderr",
     "output_type": "stream",
     "text": [
      "C:\\Users\\rk982\\anaconda3\\lib\\site-packages\\IPython\\core\\interactiveshell.py:3165: DtypeWarning: Columns (3,4,5,6,7,8,9,10,11,12,13,14,15,16) have mixed types.Specify dtype option on import or set low_memory=False.\n",
      "  has_raised = await self.run_ast_nodes(code_ast.body, cell_name,\n"
     ]
    },
    {
     "data": {
      "image/png": "[encoded data removed]",
      "text/plain": [
       "<Figure size 1080x432 with 1 Axes>"
      ]
     },
     "metadata": {
      "needs_background": "light"
     },
     "output_type": "display_data"
    }
   ],
   "source": [
    "# California Case File from: https://data.chhs.ca.gov/dataset/covid-19-time-series-metrics-by-county-and-state\n",
    "ca_covid_df = pd.read_csv(\"data/covid_data/ca_covid19_cases.csv\")\n",
    "# Drop majority of columns \n",
    "ca_covid_df = ca_covid_df.drop(['area_type', 'cumulative_cases', 'cumulative_deaths', 'cumulative_total_tests', \n",
    "                                'cumulative_positive_tests', 'cumulative_reported_cases', \n",
    "                                'cumulative_reported_deaths'], axis=1)\n",
    "# Testing graphical output of matplotlib... \n",
    "ca_cases_fig, ca_cases_axs = plt.subplots(figsize=(15,6))\n",
    "# Read counties csv\n",
    "ca_counties = pd.read_csv(\"data/counties/ca_counties.csv\")\n",
    "state_case_visualization(ca_covid_df, ca_counties, ca_date_list, ca_x_list, ca_x_labels, \n",
    "                         'area', 'cases', 'California', ca_cases_axs)"
   ]
  },
  {
   "cell_type": "code",
   "execution_count": 31,
   "id": "29ee8e91",
   "metadata": {
    "slideshow": {
     "slide_type": "slide"
    }
   },
   "outputs": [
    {
     "data": {
      "image/png": "[encoded data removed]",
      "text/plain": [
       "<Figure size 1080x432 with 1 Axes>"
      ]
     },
     "metadata": {
      "needs_background": "light"
     },
     "output_type": "display_data"
    }
   ],
   "source": [
    "# FL Covid Case File from: https://covid.cdc.gov/covid-data-tracker/#trends_dailytr\n",
    "#  endscases&territory-select=12&leftAxis=New_case&rightAxis=select\n",
    "fl_covid_df = pd.read_csv(\"data/covid_data/fl_covid19_cases.csv\", header=2)\n",
    "fl_cases_df = str_to_date(fl_covid_df, 'Date', '%b %d %Y')\n",
    "\n",
    "fl_cases_fig, fl_cases_axs = plt.subplots(figsize=(15,6))\n",
    "cdc_state_case_visualization(fl_cases_df, fl_date_list, fl_x_list, fl_x_labels, 'Florida', fl_cases_axs)"
   ]
  },
  {
   "cell_type": "code",
   "execution_count": 32,
   "id": "21d9a280",
   "metadata": {
    "slideshow": {
     "slide_type": "slide"
    }
   },
   "outputs": [
    {
     "data": {
      "image/png": "[encoded data removed]",
      "text/plain": [
       "<Figure size 1080x432 with 1 Axes>"
      ]
     },
     "metadata": {
      "needs_background": "light"
     },
     "output_type": "display_data"
    }
   ],
   "source": [
    "# NY Covid Case File from: https://health.data.ny.gov/Health/New-York-State-Statewide-COVID-19-Testing/xdss-u53e/data\n",
    "ny_covid_df = pd.read_csv(\"data/covid_data/ny_covid19_cases.csv\")\n",
    "\n",
    "ny_cases_df = str_to_date(ny_covid_df, 'Test Date', '%m/%d/%Y')\n",
    "\n",
    "    cases_list.append(sum([float(x) for x in county_covid_cases['cases']]))\n",
    "        \n",
    "# Testing graphical output of matplotlib... \n",
    "ny_cases_fig, ny_cases_axs = plt.subplots(figsize=(15,6))\n",
    "# Read counties csv\n",
    "ny_counties = pd.read_csv(\"data/counties/ny_counties.csv\")\n",
    "state_case_visualization(ny_cases_df, ny_counties, ny_date_list, ny_x_list, ny_x_labels, \n",
    "                         'County', 'New Positives', 'New York', ny_cases_axs)"
   ]
  },
  {
   "cell_type": "code",
   "execution_count": 33,
   "id": "151ced19",
   "metadata": {
    "slideshow": {
     "slide_type": "slide"
    }
   },
   "outputs": [
    {
     "data": {
      "image/png": "[encoded data removed]",
      "text/plain": [
       "<Figure size 1080x432 with 1 Axes>"
      ]
     },
     "metadata": {
      "needs_background": "light"
     },
     "output_type": "display_data"
    }
   ],
   "source": [
    "# Texas Covid Data from: https://covid.cdc.gov/covid-data-tracker/#trends_dailytr\n",
    "#  endscases&territory-select=48&leftAxis=New_case&rightAxis=select\n",
    "tx_covid_df = pd.read_csv(\"data/covid_data/tx_covid19_cases.csv\", header=2)\n",
    "tx_cases_df = str_to_date(tx_covid_df, 'Date', '%b %d %Y')\n",
    "tx_cases_df\n",
    "\n",
    "tx_cases_fig, tx_cases_axs = plt.subplots(figsize=(15,6))\n",
    "cdc_state_case_visualization(tx_cases_df, tx_date_list, tx_x_list, tx_x_labels, 'Texas', tx_cases_axs)"
   ]
  },
  {
   "cell_type": "code",
   "execution_count": 140,
   "id": "60d788ea",
   "metadata": {
    "slideshow": {
     "slide_type": "skip"
    }
   },
   "outputs": [],
   "source": [
    "import pandas as pd"
   ]
  },
  {
   "cell_type": "code",
   "execution_count": 75,
   "id": "625967fb",
   "metadata": {
    "scrolled": true,
    "slideshow": {
     "slide_type": "skip"
    }
   },
   "outputs": [
    {
     "name": "stdout",
     "output_type": "stream",
     "text": [
      "Index(['renderedContent', 'hashtags'], dtype='object')\n"
     ]
    },
    {
     "name": "stderr",
     "output_type": "stream",
     "text": [
      "<ipython-input-145-f4227c72497c>:16: SettingWithCopyWarning: \n",
      "A value is trying to be set on a copy of a slice from a DataFrame.\n",
      "Try using .loc[row_indexer,col_indexer] = value instead\n",
      "\n",
      "See the caveats in the documentation: https://pandas.pydata.org/pandas-docs/stable/user_guide/indexing.html#returning-a-view-versus-a-copy\n",
      "  marin['tone'] = [3, 4, 5, 2, 2, 4, 2]\n"
     ]
    }
   ],
   "source": [
    "marin_temp = pd.read_json(\"data/tweets/2021-08-01_2021-08-08/ca_tweets/Marin.json\", lines = True)\n",
    "\n",
    "marin = marin_temp[['renderedContent', 'hashtags']]\n",
    "\n",
    "# marin = marin_temp.drop(columns={'url', 'date', 'content', 'id', 'user', 'replyCount',\n",
    "#        'retweetCount', 'likeCount', 'quoteCount', 'conversationId', 'lang',\n",
    "#        'source', 'sourceUrl', 'sourceLabel', 'outlinks', 'tcooutlinks',\n",
    "#        'media', 'retweetedTweet', 'quotedTweet', 'inReplyToTweetId',\n",
    "#        'inReplyToUser', 'mentionedUsers', 'coordinates', 'place',\n",
    "#        'cashtags'})\n",
    "\n",
    "print(marin.columns)\n",
    "\n",
    "\n",
    "# apply filter method to find out tone of tweet, for brevity consider the temporary column 'tone'\n",
    "marin['tone'] = [3, 4, 5, 2, 2, 4, 2]"
   ]
  },
  {
   "cell_type": "markdown",
   "id": "f6da3af9",
   "metadata": {
    "slideshow": {
     "slide_type": "slide"
    }
   },
   "source": [
    "# References\n",
    "\n",
    "California Counties: https://www.mapsofworld.com/usa/states/california/california-county-map.html\n",
    "\n",
    "Florida Counties: https://www.mapsofworld.com/usa/states/florida/florida-county-map.html\n",
    "\n",
    "New York Counties: https://www.mapsofworld.com/usa/states/new-york/new-york-county-map.html\n",
    "\n",
    "Texas Counties: https://www.mapsofworld.com/usa/states/texas/texas-county-map.html"
   ]
  },
  {
   "cell_type": "code",
   "execution_count": null,
   "id": "d7b28bd5",
   "metadata": {},
   "outputs": [],
   "source": []
  }
 ],
 "metadata": {
  "celltoolbar": "Slideshow",
  "kernelspec": {
   "display_name": "Python 3 (ipykernel)",
   "language": "python",
   "name": "python3"
  },
  "language_info": {
   "codemirror_mode": {
    "name": "ipython",
    "version": 3
   },
   "file_extension": ".py",
   "mimetype": "text/x-python",
   "name": "python",
   "nbconvert_exporter": "python",
   "pygments_lexer": "ipython3",
   "version": "3.9.5"
  }
 },
 "nbformat": 4,
 "nbformat_minor": 5
}
