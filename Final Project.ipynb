{
 "cells": [
  {
   "cell_type": "code",
   "execution_count": 1,
   "id": "973070d0",
   "metadata": {},
   "outputs": [],
   "source": [
    "# trouble shooting\n",
    "import sys\n",
    "sys.path.append('/opt/anaconda3/lib/python3.8/site-packages')"
   ]
  },
  {
   "cell_type": "code",
   "execution_count": 2,
   "id": "76243e3b",
   "metadata": {
    "scrolled": true
   },
   "outputs": [],
   "source": [
    "# Run the pip install command below if you don't already have the library\n",
    "# !pip3 install git+https://github.com/JustAnotherArchivist/snscrape.git\n",
    "import os\n",
    "import math\n",
    "import pandas as pd\n",
    "import json\n",
    "from pandas import json_normalize\n",
    "from datetime import datetime\n",
    "from random import randrange\n",
    "import shutil\n",
    "import itertools\n",
    "import snscrape.modules.twitter as sntwitter"
   ]
  },
  {
   "cell_type": "code",
   "execution_count": 3,
   "id": "270f1b3d",
   "metadata": {
    "scrolled": true
   },
   "outputs": [
    {
     "name": "stdout",
     "output_type": "stream",
     "text": [
      "\"coronavirus\" OR \"covid19\" OR \"pandemic\" OR \"quarantine\" near:\"Los Angeles\" since:2020-01-01 until:2020-12-31\n"
     ]
    }
   ],
   "source": [
    "# Search terms: Content in the tweet\n",
    "search_terms = [\n",
    "    'coronavirus',\n",
    "    'covid19',\n",
    "    'pandemic',\n",
    "    'quarantine',\n",
    "]\n",
    "\n",
    "# Creates a search parameter for the Twitter scraper\n",
    "# since_date: inclusive\n",
    "# until_date: exclusive\n",
    "def search_builder(terms, area, since_date, until_date):    \n",
    "    s = ''\n",
    "    # Concatenate all search terms\n",
    "    for i in range(len(terms) - 1):\n",
    "        # NOTE: Inclusive OR statement\n",
    "        s += '\\\"' + terms[i] + '\\\" OR '\n",
    "    s += '\\\"' + terms[len(terms) - 1] + '\\\" '    \n",
    "    \n",
    "    # Within or the near the area\n",
    "    s += 'near:\\\"' + area + '\\\" '\n",
    "    # Since the first date\n",
    "    s += 'since:' + since_date + ' '\n",
    "    # Until the second date\n",
    "    s += 'until:' + until_date\n",
    "    \n",
    "    return s\n",
    "\n",
    "# Returns a DataFrame with at most tweet_limit tweets resulting from\n",
    "# the search\n",
    "def scrape(search_param, tweet_limit):\n",
    "    return pd.DataFrame(itertools.islice(\n",
    "        sntwitter.TwitterSearchScraper(search_param).get_items(), tweet_limit))\n",
    "\n",
    "# Search for tweets in Los Angeles mentioning COVID terms\n",
    "# from the beginning to the end of 2020.\n",
    "los_angeles_search = search_builder(\n",
    "    search_terms,\n",
    "    \"Los Angeles\",\n",
    "    '2020-01-01',\n",
    "    '2020-12-31')\n",
    "\n",
    "print(los_angeles_search)"
   ]
  },
  {
   "cell_type": "code",
   "execution_count": 4,
   "id": "5b802380",
   "metadata": {
    "scrolled": true
   },
   "outputs": [],
   "source": [
    "# ********* STATE TWEET SCRAPING *********\n",
    "\n",
    "def state_scraper(state, abbr, limit, since_date, until_date):\n",
    "\n",
    "    total_tweets = 0\n",
    "\n",
    "    print(\"Compiling tweets (max <=\" + str(limit) + \") from \" + state + \" counties from \" + since_date + \" to \" + until_date)\n",
    "\n",
    "    print(\"START: \" + str(datetime.now()))\n",
    "\n",
    "    counties = pd.read_csv(\"data/counties/\" + abbr + \"_counties.csv\")\n",
    "\n",
    "    for i in range(len(counties)):\n",
    "\n",
    "        county = counties.iloc[i]['County']\n",
    "        county.strip()\n",
    "\n",
    "        county_search = search_builder(\n",
    "            search_terms,\n",
    "            county + \" County, \" + abbr,\n",
    "            since_date,\n",
    "            until_date)\n",
    "\n",
    "        county_tweets = scrape(county_search, limit)\n",
    "\n",
    "        total_tweets = total_tweets + len(county_tweets)\n",
    "\n",
    "        # Generates JSON with respective county tweet data\n",
    "        county_json = county_tweets.to_json(county + \".json\", lines=True, orient='records')\n",
    "\n",
    "        source = os.getcwd() + \"/\" + county + \".json\"\n",
    "        destination = os.getcwd() + \"/data/tweets/\" + abbr + \"_tweets/\" + county + \".json\"\n",
    "        shutil.move(source, destination)\n",
    "\n",
    "        print(\"(\" + str(i + 1) + \"/\" + str(len(counties)) + \") \" + county + \" - \" + str(len(county_tweets)) + \" tweets: \" + str(datetime.now()))\n",
    "\n",
    "    print(\"END: \" + str(datetime.now()))\n",
    "    print(str(total_tweets) + \" tweets processed\")\n",
    "\n",
    "    \n",
    "# California Tweet Scraper\n",
    "def ca_scraper(tweet_limit, since_date, until_date):\n",
    "    state_scraper(\"California\", \"CA\", tweet_limit, since_date, until_date)\n",
    "\n",
    "# Florida Tweet Scraper\n",
    "def fl_scraper(tweet_limit, since_date, until_date):\n",
    "    state_scraper(\"Florida\", \"FL\", tweet_limit, since_date, until_date)\n",
    "\n",
    "# New York Tweet Scraper\n",
    "def ny_scraper(tweet_limit, since_date, until_date):\n",
    "    state_scraper(\"New York\", \"NY\", tweet_limit, since_date, until_date)\n",
    "    \n",
    "# Texas Tweet Scraper\n",
    "def tx_scraper(tweet_limit, since_date, until_date):\n",
    "    state_scraper(\"Texas\", \"TX\", tweet_limit, since_date, until_date)"
   ]
  },
  {
   "cell_type": "code",
   "execution_count": 7,
   "id": "78f7cc66",
   "metadata": {
    "scrolled": true
   },
   "outputs": [
    {
     "name": "stdout",
     "output_type": "stream",
     "text": [
      "Compiling tweets (max <=1000) from California counties from 2021-10-01 to 2021-10-09\n",
      "START: 2021-11-14 20:25:57.702275\n",
      "(1/58) Alameda - 20 tweets: 2021-11-14 20:25:59.838410\n",
      "(2/58) Alpine - 1000 tweets: 2021-11-14 20:26:25.077313\n",
      "(3/58) Amador - 0 tweets: 2021-11-14 20:26:27.809523\n",
      "(4/58) Butte - 1 tweets: 2021-11-14 20:26:29.364359\n",
      "(5/58) Calaveras - 0 tweets: 2021-11-14 20:26:30.922107\n",
      "(6/58) Colusa - 1000 tweets: 2021-11-14 20:26:55.546899\n",
      "(7/58) Contra Costa - 19 tweets: 2021-11-14 20:26:57.655577\n",
      "(8/58) Del Norte - 0 tweets: 2021-11-14 20:26:58.934344\n",
      "(9/58) El Dorado - 0 tweets: 2021-11-14 20:27:00.200795\n",
      "(10/58) Fresno - 7 tweets: 2021-11-14 20:27:01.720994\n",
      "(11/58) Glenn - 1000 tweets: 2021-11-14 20:27:27.286553\n",
      "(12/58) Humboldt - 3 tweets: 2021-11-14 20:27:28.853507\n",
      "(13/58) Imperial - 0 tweets: 2021-11-14 20:27:31.428107\n",
      "(14/58) Inyo - 1000 tweets: 2021-11-14 20:27:58.724922\n",
      "(15/58) Kern - 0 tweets: 2021-11-14 20:28:00.353724\n",
      "(16/58) Kings - 0 tweets: 2021-11-14 20:28:01.846583\n",
      "(17/58) Lake - 0 tweets: 2021-11-14 20:28:03.238622\n",
      "(18/58) Lassen - 1000 tweets: 2021-11-14 20:28:33.415619\n",
      "(19/58) Los Angeles - 12 tweets: 2021-11-14 20:28:41.172285\n",
      "(20/58) Madera - 1000 tweets: 2021-11-14 20:29:05.506250\n",
      "(21/58) Marin - 8 tweets: 2021-11-14 20:29:11.485017\n",
      "(22/58) Mariposa - 0 tweets: 2021-11-14 20:29:12.893430\n",
      "(23/58) Mendocino - 0 tweets: 2021-11-14 20:29:14.212842\n",
      "(24/58) Merced - 0 tweets: 2021-11-14 20:29:17.252169\n",
      "(25/58) Modoc - 0 tweets: 2021-11-14 20:29:18.607964\n",
      "(26/58) Mono - 0 tweets: 2021-11-14 20:29:21.785449\n",
      "(27/58) Monterey - 0 tweets: 2021-11-14 20:29:23.038000\n",
      "(28/58) Napa - 4 tweets: 2021-11-14 20:29:24.738720\n",
      "(29/58) Nevada - 0 tweets: 2021-11-14 20:29:26.317610\n",
      "(30/58) Orange - 36 tweets: 2021-11-14 20:29:29.782199\n",
      "(31/58) Placer - 0 tweets: 2021-11-14 20:29:31.311792\n",
      "(32/58) Plumas - 0 tweets: 2021-11-14 20:29:32.809355\n",
      "(33/58) Riverside - 4 tweets: 2021-11-14 20:29:34.338060\n",
      "(34/58) Sacramento - 27 tweets: 2021-11-14 20:29:36.542999\n",
      "(35/58) San Benito - 1000 tweets: 2021-11-14 20:29:59.845225\n",
      "(36/58) San Bernardino - 0 tweets: 2021-11-14 20:30:01.334453\n",
      "(37/58) San Diego - 1 tweets: 2021-11-14 20:30:04.118726\n",
      "(38/58) San Francisco City & - 1000 tweets: 2021-11-14 20:30:30.006864\n",
      "(39/58) San Joaquin - 3 tweets: 2021-11-14 20:30:32.067689\n",
      "(40/58) San Luis Obispo - 3 tweets: 2021-11-14 20:30:33.416011\n",
      "(41/58) San Mateo - 19 tweets: 2021-11-14 20:30:39.942547\n",
      "(42/58) Santa Barbara - 1 tweets: 2021-11-14 20:30:41.188338\n",
      "(43/58) Santa Clara - 29 tweets: 2021-11-14 20:30:43.389266\n",
      "(44/58) Santa Cruz - 6 tweets: 2021-11-14 20:30:45.066015\n",
      "(45/58) Shasta - 0 tweets: 2021-11-14 20:30:46.261864\n",
      "(46/58) Sierra - 0 tweets: 2021-11-14 20:30:47.574578\n",
      "(47/58) Siskiyou - 0 tweets: 2021-11-14 20:30:48.818742\n",
      "(48/58) Solano - 2 tweets: 2021-11-14 20:30:50.256863\n",
      "(49/58) Sonoma - 3 tweets: 2021-11-14 20:30:51.536791\n",
      "(50/58) Stanislaus - 5 tweets: 2021-11-14 20:30:53.495456\n",
      "(51/58) Sutter - 0 tweets: 2021-11-14 20:30:54.821938\n",
      "(52/58) Tehama - 1000 tweets: 2021-11-14 20:31:20.332524\n",
      "(53/58) Trinity - 1000 tweets: 2021-11-14 20:31:44.316567\n",
      "(54/58) Tulare - 0 tweets: 2021-11-14 20:31:45.678910\n",
      "(55/58) Tuolumne - 0 tweets: 2021-11-14 20:31:47.031863\n",
      "(56/58) Ventura - 3 tweets: 2021-11-14 20:31:51.838538\n",
      "(57/58) Yolo - 4 tweets: 2021-11-14 20:31:53.367525\n",
      "(58/58) Yuba - 1000 tweets: 2021-11-14 20:32:19.034279\n",
      "END: 2021-11-14 20:32:19.034437\n",
      "11220 tweets processed\n"
     ]
    }
   ],
   "source": [
    "ca_scraper(1000, \"2021-10-01\", \"2021-10-09\")"
   ]
  },
  {
   "cell_type": "code",
   "execution_count": 10,
   "id": "fa0d0daa",
   "metadata": {
    "scrolled": true
   },
   "outputs": [
    {
     "name": "stdout",
     "output_type": "stream",
     "text": [
      "Compiling tweets (max <=1000) from Florida counties from 2021-10-01 to 2021-10-09\n",
      "START: 2021-11-03 17:26:07.622783\n",
      "(1/67) Alachua - 2 tweets: 2021-11-03 17:26:09.265687\n",
      "(2/67) Baker - 0 tweets: 2021-11-03 17:26:10.791695\n",
      "(3/67) Bay - 3 tweets: 2021-11-03 17:26:12.775998\n",
      "(4/67) Bradford - 2 tweets: 2021-11-03 17:26:14.464591\n",
      "(5/67) Brevard - 2 tweets: 2021-11-03 17:26:16.398375\n",
      "(6/67) Broward - 27 tweets: 2021-11-03 17:26:19.583758\n",
      "(7/67) Calhoun - 0 tweets: 2021-11-03 17:26:20.894507\n",
      "(8/67) Charlotte - 1 tweets: 2021-11-03 17:26:23.065595\n",
      "(9/67) Citrus - 1 tweets: 2021-11-03 17:26:24.693889\n",
      "(10/67) Clay - 3 tweets: 2021-11-03 17:26:26.176432\n",
      "(11/67) Collier - 4 tweets: 2021-11-03 17:26:28.790570\n",
      "(12/67) Columbia - 0 tweets: 2021-11-03 17:26:30.330622\n",
      "(13/67) De Soto - 1000 tweets: 2021-11-03 17:27:00.636094\n",
      "(14/67) Dixie - 0 tweets: 2021-11-03 17:27:02.107284\n",
      "(15/67) Duval - 1 tweets: 2021-11-03 17:27:03.424490\n",
      "(16/67) Escambia - 0 tweets: 2021-11-03 17:27:05.739998\n",
      "(17/67) Flagler - 0 tweets: 2021-11-03 17:27:07.251147\n",
      "(18/67) Franklin - 1000 tweets: 2021-11-03 17:27:36.649244\n",
      "(19/67) Gadsden - 10 tweets: 2021-11-03 17:27:38.374571\n",
      "(20/67) Gilchrist - 1000 tweets: 2021-11-03 17:28:06.894026\n",
      "(21/67) Glades - 1000 tweets: 2021-11-03 17:28:35.859370\n",
      "(22/67) Gulf - 0 tweets: 2021-11-03 17:28:37.190847\n",
      "(23/67) Hamilton - 1000 tweets: 2021-11-03 17:29:07.512683\n",
      "(24/67) Hardee - 1 tweets: 2021-11-03 17:29:09.965748\n",
      "(25/67) Hendry - 1000 tweets: 2021-11-03 17:29:36.909846\n",
      "(26/67) Hernando - 1 tweets: 2021-11-03 17:29:38.477200\n",
      "(27/67) Highlands - 0 tweets: 2021-11-03 17:29:42.192726\n",
      "(28/67) Hillsborough - 29 tweets: 2021-11-03 17:29:45.064327\n",
      "(29/67) Holmes - 0 tweets: 2021-11-03 17:29:47.099835\n",
      "(30/67) Indian River - 0 tweets: 2021-11-03 17:29:48.575637\n",
      "(31/67) Jackson - 1000 tweets: 2021-11-03 17:30:14.002694\n",
      "(32/67) Jefferson - 10 tweets: 2021-11-03 17:30:15.644224\n",
      "(33/67) Lafayette - 1000 tweets: 2021-11-03 17:30:40.326312\n",
      "(34/67) Lake - 24 tweets: 2021-11-03 17:30:43.780587\n",
      "(35/67) Lee - 8 tweets: 2021-11-03 17:30:45.524156\n",
      "(36/67) Leon - 10 tweets: 2021-11-03 17:30:47.178967\n",
      "(37/67) Levy - 0 tweets: 2021-11-03 17:30:48.511997\n",
      "(38/67) Liberty - 0 tweets: 2021-11-03 17:30:49.805609\n",
      "(39/67) Madison - 1000 tweets: 2021-11-03 17:31:14.966067\n",
      "(40/67) Manatee - 4 tweets: 2021-11-03 17:31:17.074225\n",
      "(41/67) Marion - 4 tweets: 2021-11-03 17:31:18.489571\n",
      "(42/67) Martin - 0 tweets: 2021-11-03 17:31:19.911459\n",
      "(43/67) Miami - 1000 tweets: 2021-11-03 17:31:45.041710\n",
      "(44/67) Monroe - 1000 tweets: 2021-11-03 17:32:10.094499\n",
      "(45/67) Nassau - 0 tweets: 2021-11-03 17:32:11.426258\n",
      "(46/67) Okaloosa - 0 tweets: 2021-11-03 17:32:13.062693\n",
      "(47/67) Okeechobee - 1000 tweets: 2021-11-03 17:32:36.648031\n",
      "(48/67) Orange - 59 tweets: 2021-11-03 17:32:40.698649\n",
      "(49/67) Osceola - 6 tweets: 2021-11-03 17:32:42.572517\n",
      "(50/67) Palm Beach - 7 tweets: 2021-11-03 17:32:44.227545\n",
      "(51/67) Pasco - 1 tweets: 2021-11-03 17:32:46.243723\n",
      "(52/67) Pinellas - 32 tweets: 2021-11-03 17:32:48.625835\n",
      "(53/67) Polk - 17 tweets: 2021-11-03 17:32:50.739435\n",
      "(54/67) Putnam - 0 tweets: 2021-11-03 17:32:52.245227\n",
      "(55/67) St. Johns - 4 tweets: 2021-11-03 17:32:53.685581\n",
      "(56/67) St. Lucie - 0 tweets: 2021-11-03 17:32:55.058738\n",
      "(57/67) Santa Rosa - 0 tweets: 2021-11-03 17:32:56.882787\n",
      "(58/67) Sarasota - 4 tweets: 2021-11-03 17:32:58.372013\n",
      "(59/67) Seminole - 61 tweets: 2021-11-03 17:33:02.146048\n",
      "(60/67) Sumter - 1 tweets: 2021-11-03 17:33:03.462426\n",
      "(61/67) Suwannee - 0 tweets: 2021-11-03 17:33:05.055224\n",
      "(62/67) Taylor - 1000 tweets: 2021-11-03 17:33:32.047150\n",
      "(63/67) Union - 1000 tweets: 2021-11-03 17:33:56.628946\n",
      "(64/67) Volusia - 4 tweets: 2021-11-03 17:33:58.243155\n",
      "(65/67) Wakulla - 0 tweets: 2021-11-03 17:33:59.779087\n",
      "(66/67) Walton - 0 tweets: 2021-11-03 17:34:01.052464\n",
      "(67/67) Washington - 1000 tweets: 2021-11-03 17:34:27.684139\n",
      "END: 2021-11-03 17:34:27.684251\n",
      "15343 tweets processed\n"
     ]
    }
   ],
   "source": [
    "fl_scraper(1000, \"2021-10-01\", \"2021-10-09\")"
   ]
  },
  {
   "cell_type": "code",
   "execution_count": 11,
   "id": "2f0943d5",
   "metadata": {
    "scrolled": true
   },
   "outputs": [
    {
     "name": "stdout",
     "output_type": "stream",
     "text": [
      "Compiling tweets (max <=1000) from New York counties from 2021-10-01 to 2021-10-09\n",
      "START: 2021-11-03 17:34:27.758192\n",
      "(1/62) Albany - 2 tweets: 2021-11-03 17:34:29.318768\n",
      "(2/62) Allegany - 0 tweets: 2021-11-03 17:34:30.926130\n",
      "(3/62) Bronx - 418 tweets: 2021-11-03 17:34:52.586070\n",
      "(4/62) Broome - 0 tweets: 2021-11-03 17:34:54.832494\n",
      "(5/62) Cattaraugus - 1000 tweets: 2021-11-03 17:35:20.739375\n",
      "(6/62) Cayuga - 1000 tweets: 2021-11-03 17:35:45.573533\n",
      "(7/62) Chautauqua - 1 tweets: 2021-11-03 17:35:47.165005\n",
      "(8/62) Chemung - 1000 tweets: 2021-11-03 17:36:13.055069\n",
      "(9/62) Chenango - 1000 tweets: 2021-11-03 17:36:41.205264\n",
      "(10/62) Clinton - 0 tweets: 2021-11-03 17:36:42.543747\n",
      "(11/62) Columbia - 0 tweets: 2021-11-03 17:36:44.435576\n",
      "(12/62) Cortland - 0 tweets: 2021-11-03 17:36:46.811955\n",
      "(13/62) Delaware - 0 tweets: 2021-11-03 17:36:48.351194\n",
      "(14/62) Dutchess - 6 tweets: 2021-11-03 17:36:49.935045\n",
      "(15/62) Erie - 11 tweets: 2021-11-03 17:36:52.410984\n",
      "(16/62) Essex - 1000 tweets: 2021-11-03 17:37:22.287911\n",
      "(17/62) Franklin - 0 tweets: 2021-11-03 17:37:23.609294\n",
      "(18/62) Fulton - 0 tweets: 2021-11-03 17:37:25.061265\n",
      "(19/62) Genesee - 0 tweets: 2021-11-03 17:37:26.992251\n",
      "(20/62) Greene - 0 tweets: 2021-11-03 17:37:28.683908\n",
      "(21/62) Hamilton - 0 tweets: 2021-11-03 17:37:30.069438\n",
      "(22/62) Herkimer - 1000 tweets: 2021-11-03 17:38:01.349062\n",
      "(23/62) Jefferson - 0 tweets: 2021-11-03 17:38:02.630499\n",
      "(24/62) Kings - 415 tweets: 2021-11-03 17:38:23.138829\n",
      "(25/62) Lewis - 0 tweets: 2021-11-03 17:38:24.651109\n",
      "(26/62) Livingston - 0 tweets: 2021-11-03 17:38:26.502790\n",
      "(27/62) Madison - 1000 tweets: 2021-11-03 17:38:56.676723\n",
      "(28/62) Monroe - 11 tweets: 2021-11-03 17:38:59.006618\n",
      "(29/62) Montgomery - 0 tweets: 2021-11-03 17:39:01.955786\n",
      "(30/62) Nassau - 114 tweets: 2021-11-03 17:39:13.384368\n",
      "(31/62) New York - 1000 tweets: 2021-11-03 17:39:42.727439\n",
      "(32/62) Niagara - 7 tweets: 2021-11-03 17:39:44.393436\n",
      "(33/62) Oneida - 2 tweets: 2021-11-03 17:39:45.889897\n",
      "(34/62) Onondaga - 9 tweets: 2021-11-03 17:39:47.721162\n",
      "(35/62) Ontario - 0 tweets: 2021-11-03 17:39:49.661641\n",
      "(36/62) Orange - 1 tweets: 2021-11-03 17:39:52.035990\n",
      "(37/62) Orleans - 1 tweets: 2021-11-03 17:39:53.406065\n",
      "(38/62) Oswego - 0 tweets: 2021-11-03 17:39:55.035532\n",
      "(39/62) Otsego - 0 tweets: 2021-11-03 17:39:57.582137\n",
      "(40/62) Putnam - 10 tweets: 2021-11-03 17:40:00.723402\n",
      "(41/62) Queens - 410 tweets: 2021-11-03 17:40:16.963191\n",
      "(42/62) Rensselaer - 6 tweets: 2021-11-03 17:40:18.416358\n",
      "(43/62) Richmond - 1000 tweets: 2021-11-03 17:40:47.679638\n",
      "(44/62) Rockland - 18 tweets: 2021-11-03 17:40:49.691029\n",
      "(45/62) St Lawrence - 0 tweets: 2021-11-03 17:40:51.015793\n",
      "(46/62) Saratoga - 2 tweets: 2021-11-03 17:40:52.601424\n",
      "(47/62) Schenectady - 0 tweets: 2021-11-03 17:40:54.108196\n",
      "(48/62) Schoharie - 0 tweets: 2021-11-03 17:40:55.736103\n",
      "(49/62) Schuyler - 1000 tweets: 2021-11-03 17:41:26.374912\n",
      "(50/62) Seneca - 0 tweets: 2021-11-03 17:41:28.019447\n",
      "(51/62) Steuben - 1000 tweets: 2021-11-03 17:41:59.439470\n",
      "(52/62) Suffolk - 6 tweets: 2021-11-03 17:42:01.185791\n",
      "(53/62) Sullivan - 0 tweets: 2021-11-03 17:42:04.747905\n",
      "(54/62) Tioga - 1000 tweets: 2021-11-03 17:42:37.681566\n",
      "(55/62) Tompkins - 4 tweets: 2021-11-03 17:42:38.968411\n",
      "(56/62) Ulster - 0 tweets: 2021-11-03 17:42:40.385708\n",
      "(57/62) Warren - 0 tweets: 2021-11-03 17:42:41.729811\n",
      "(58/62) Washington - 1000 tweets: 2021-11-03 17:43:09.799461\n",
      "(59/62) Wayne - 0 tweets: 2021-11-03 17:43:11.302427\n",
      "(60/62) Westchester - 27 tweets: 2021-11-03 17:43:13.845210\n",
      "(61/62) Wyoming - 0 tweets: 2021-11-03 17:43:15.372350\n",
      "(62/62) Yates - 1000 tweets: 2021-11-03 17:43:45.113191\n",
      "END: 2021-11-03 17:43:45.113345\n",
      "15481 tweets processed\n"
     ]
    }
   ],
   "source": [
    "ny_scraper(1000, \"2021-10-01\", \"2021-10-09\")"
   ]
  },
  {
   "cell_type": "code",
   "execution_count": 12,
   "id": "625967fb",
   "metadata": {
    "scrolled": true
   },
   "outputs": [
    {
     "name": "stdout",
     "output_type": "stream",
     "text": [
      "Compiling tweets (max <=1000) from Texas counties from 2021-10-01 to 2021-10-09\n",
      "START: 2021-11-03 17:43:45.123860\n",
      "(1/254) Anderson - 1000 tweets: 2021-11-03 17:44:15.795531\n",
      "(2/254) Andrews - 1000 tweets: 2021-11-03 17:44:46.879523\n",
      "(3/254) Angelina - 1000 tweets: 2021-11-03 17:45:19.389715\n",
      "(4/254) Aransas - 1000 tweets: 2021-11-03 17:45:48.753415\n",
      "(5/254) Archer - 1000 tweets: 2021-11-03 17:46:20.702523\n",
      "(6/254) Armstrong - 1000 tweets: 2021-11-03 17:46:51.709236\n",
      "(7/254) Atascosa - 1000 tweets: 2021-11-03 17:47:20.125059\n",
      "(8/254) Austin - 1000 tweets: 2021-11-03 17:47:47.993429\n",
      "(9/254) Bailey - 1000 tweets: 2021-11-03 17:48:14.478952\n",
      "(10/254) Bandera - 1000 tweets: 2021-11-03 17:48:45.317235\n",
      "(11/254) Bastrop - 0 tweets: 2021-11-03 17:48:49.161300\n",
      "(12/254) Baylor - 1000 tweets: 2021-11-03 17:49:18.432394\n",
      "(13/254) Bee - 1000 tweets: 2021-11-03 17:49:48.306897\n",
      "(14/254) Bell - 3 tweets: 2021-11-03 17:49:50.241391\n",
      "(15/254) Bexar - 33 tweets: 2021-11-03 17:49:52.918358\n",
      "(16/254) Blanco - 1000 tweets: 2021-11-03 17:50:24.263812\n",
      "(17/254) Borden - 1000 tweets: 2021-11-03 17:50:53.675666\n",
      "(18/254) Bosque - 1000 tweets: 2021-11-03 17:51:23.445322\n",
      "(19/254) Bowie - 1000 tweets: 2021-11-03 17:51:55.126939\n",
      "(20/254) Brazoria - 0 tweets: 2021-11-03 17:51:56.857353\n",
      "(21/254) Brazos - 8 tweets: 2021-11-03 17:51:58.570221\n",
      "(22/254) Brewster - 0 tweets: 2021-11-03 17:51:59.891616\n",
      "(23/254) Briscoe - 1000 tweets: 2021-11-03 17:52:27.848844\n",
      "(24/254) Brooks - 1000 tweets: 2021-11-03 17:52:54.131633\n",
      "(25/254) Brown - 1000 tweets: 2021-11-03 17:53:23.153800\n",
      "(26/254) Burleson - 1000 tweets: 2021-11-03 17:53:52.088742\n",
      "(27/254) Burnet - 1000 tweets: 2021-11-03 17:54:18.314522\n",
      "(28/254) Caldwell - 1000 tweets: 2021-11-03 17:54:47.564442\n",
      "(29/254) Calhoun - 1000 tweets: 2021-11-03 17:55:15.315165\n",
      "(30/254) Callahan - 1000 tweets: 2021-11-03 17:55:43.068487\n",
      "(31/254) Cameron - 1000 tweets: 2021-11-03 17:56:12.313709\n",
      "(32/254) Camp - 1000 tweets: 2021-11-03 17:56:38.693735\n",
      "(33/254) Carson - 1000 tweets: 2021-11-03 17:57:03.447221\n",
      "(34/254) Cass - 1000 tweets: 2021-11-03 17:57:28.254829\n",
      "(35/254) Castro - 1000 tweets: 2021-11-03 17:57:55.223491\n",
      "(36/254) Chambers - 1000 tweets: 2021-11-03 17:58:21.319777\n",
      "(37/254) Cherokee - 1000 tweets: 2021-11-03 17:58:50.068270\n",
      "(38/254) Childress - 1000 tweets: 2021-11-03 17:59:17.611958\n",
      "(39/254) Clay - 1000 tweets: 2021-11-03 17:59:45.048334\n",
      "(40/254) Cochran - 1000 tweets: 2021-11-03 18:00:09.535455\n",
      "(41/254) Coke - 1000 tweets: 2021-11-03 18:00:35.281052\n",
      "(42/254) Coleman - 1000 tweets: 2021-11-03 18:00:59.008955\n",
      "(43/254) Collin - 10 tweets: 2021-11-03 18:01:01.317787\n",
      "(44/254) Collingsworth - 1000 tweets: 2021-11-03 18:01:25.361216\n",
      "(45/254) Colorado - 0 tweets: 2021-11-03 18:01:28.231441\n",
      "(46/254) Comal - 1000 tweets: 2021-11-03 18:01:52.452452\n",
      "(47/254) Comanche - 1000 tweets: 2021-11-03 18:02:17.779253\n",
      "(48/254) Concho - 1000 tweets: 2021-11-03 18:02:44.072635\n",
      "(49/254) Cooke - 1000 tweets: 2021-11-03 18:03:10.153763\n",
      "(50/254) Coryell - 0 tweets: 2021-11-03 18:03:11.820585\n",
      "(51/254) Cottle - 1000 tweets: 2021-11-03 18:03:35.236080\n",
      "(52/254) Crane - 1000 tweets: 2021-11-03 18:03:58.171709\n",
      "(53/254) Crockett - 1000 tweets: 2021-11-03 18:04:21.160955\n",
      "(54/254) Crosby - 1000 tweets: 2021-11-03 18:04:44.334476\n",
      "(55/254) Culberson - 1000 tweets: 2021-11-03 18:05:07.700136\n",
      "(56/254) Dallam - 1000 tweets: 2021-11-03 18:05:30.618728\n",
      "(57/254) Dallas - 52 tweets: 2021-11-03 18:05:34.773506\n",
      "(58/254) Dawson - 1000 tweets: 2021-11-03 18:05:58.722187\n",
      "(59/254) Deaf Smith - 1000 tweets: 2021-11-03 18:06:21.815114\n",
      "(60/254) Delta - 1000 tweets: 2021-11-03 18:06:44.529517\n",
      "(61/254) Denton - 9 tweets: 2021-11-03 18:06:46.846929\n",
      "(62/254) DeWitt - 1000 tweets: 2021-11-03 18:07:09.497888\n",
      "(63/254) Dickens - 1000 tweets: 2021-11-03 18:07:32.331067\n",
      "(64/254) Dimmit - 1000 tweets: 2021-11-03 18:07:55.896442\n",
      "(65/254) Donley - 1000 tweets: 2021-11-03 18:08:19.509261\n",
      "(66/254) Duval - 1000 tweets: 2021-11-03 18:08:43.635731\n",
      "(67/254) Eastland - 1000 tweets: 2021-11-03 18:09:07.507699\n",
      "(68/254) Ector - 1000 tweets: 2021-11-03 18:09:31.398715\n",
      "(69/254) Edwards - 1000 tweets: 2021-11-03 18:09:54.285886\n",
      "(70/254) Ellis - 0 tweets: 2021-11-03 18:09:58.159664\n",
      "(71/254) El Paso - 1000 tweets: 2021-11-03 18:10:20.971413\n",
      "(72/254) Erath - 0 tweets: 2021-11-03 18:10:23.279904\n",
      "(73/254) Falls - 1000 tweets: 2021-11-03 18:10:46.025377\n",
      "(74/254) Fannin - 1000 tweets: 2021-11-03 18:11:08.365534\n",
      "(75/254) Fayette - 1000 tweets: 2021-11-03 18:11:31.430676\n",
      "(76/254) Fisher - 1000 tweets: 2021-11-03 18:11:54.691738\n",
      "(77/254) Floyd - 1000 tweets: 2021-11-03 18:12:18.082316\n",
      "(78/254) Foard - 1000 tweets: 2021-11-03 18:12:40.958507\n",
      "(79/254) Fort Bend - 7 tweets: 2021-11-03 18:12:45.013914\n",
      "(80/254) Franklin - 0 tweets: 2021-11-03 18:12:46.386928\n",
      "(81/254) Freestone - 1000 tweets: 2021-11-03 18:13:08.804316\n",
      "(82/254) Frio - 1000 tweets: 2021-11-03 18:13:31.065556\n",
      "(83/254) Gaines - 1000 tweets: 2021-11-03 18:13:53.593389\n",
      "(84/254) Galveston - 6 tweets: 2021-11-03 18:13:55.856441\n",
      "(85/254) Garza - 1000 tweets: 2021-11-03 18:14:19.095520\n",
      "(86/254) Gillespie - 1000 tweets: 2021-11-03 18:14:42.063910\n",
      "(87/254) Glasscock - 1000 tweets: 2021-11-03 18:15:05.007616\n",
      "(88/254) Goliad - 1000 tweets: 2021-11-03 18:15:27.349787\n",
      "(89/254) Gonzales - 1000 tweets: 2021-11-03 18:15:49.819005\n",
      "(90/254) Gray - 1000 tweets: 2021-11-03 18:16:12.914756\n",
      "(91/254) Grayson - 0 tweets: 2021-11-03 18:16:15.907022\n",
      "(92/254) Gregg - 0 tweets: 2021-11-03 18:16:17.348110\n",
      "(93/254) Grimes - 6 tweets: 2021-11-03 18:16:19.010788\n",
      "(94/254) Guadalupe - 1000 tweets: 2021-11-03 18:16:42.197030\n",
      "(95/254) Hale - 1000 tweets: 2021-11-03 18:17:04.643094\n",
      "(96/254) Hall - 1000 tweets: 2021-11-03 18:17:26.923798\n",
      "(97/254) Hamilton - 1000 tweets: 2021-11-03 18:17:49.453644\n",
      "(98/254) Hansford - 1000 tweets: 2021-11-03 18:18:12.829664\n",
      "(99/254) Hardeman - 1000 tweets: 2021-11-03 18:18:37.074939\n",
      "(100/254) Hardin - 1000 tweets: 2021-11-03 18:18:59.181052\n",
      "(101/254) Harris - 87 tweets: 2021-11-03 18:19:04.893826\n",
      "(102/254) Harrison - 1 tweets: 2021-11-03 18:19:06.419060\n",
      "(103/254) Hartley - 1000 tweets: 2021-11-03 18:19:28.938849\n",
      "(104/254) Haskell - 1000 tweets: 2021-11-03 18:19:51.081797\n",
      "(105/254) Hays - 6 tweets: 2021-11-03 18:19:53.097831\n",
      "(106/254) Hemphill - 1000 tweets: 2021-11-03 18:20:15.720058\n",
      "(107/254) Henderson - 1000 tweets: 2021-11-03 18:20:38.748955\n",
      "(108/254) Hidalgo - 5 tweets: 2021-11-03 18:20:40.201260\n",
      "(109/254) Hill - 1000 tweets: 2021-11-03 18:21:02.515089\n",
      "(110/254) Hockley - 1000 tweets: 2021-11-03 18:21:24.701830\n",
      "(111/254) Hood - 1000 tweets: 2021-11-03 18:21:46.783944\n",
      "(112/254) Hopkins - 1000 tweets: 2021-11-03 18:22:09.273908\n",
      "(113/254) Houston - 1 tweets: 2021-11-03 18:22:10.639226\n",
      "(114/254) Howard - 1000 tweets: 2021-11-03 18:22:33.343503\n",
      "(115/254) Hudspeth - 1000 tweets: 2021-11-03 18:23:01.611473\n",
      "(116/254) Hunt - 1000 tweets: 2021-11-03 18:23:29.278609\n",
      "(117/254) Hutchinson - 1000 tweets: 2021-11-03 18:23:57.211664\n",
      "(118/254) Irion - 1000 tweets: 2021-11-03 18:24:26.553068\n",
      "(119/254) Jack - 0 tweets: 2021-11-03 18:24:29.211213\n",
      "(120/254) Jackson - 1000 tweets: 2021-11-03 18:24:54.712153\n",
      "(121/254) Jasper - 1000 tweets: 2021-11-03 18:25:19.681120\n",
      "(122/254) Jeff Davis - 1000 tweets: 2021-11-03 18:25:43.951556\n",
      "(123/254) Jefferson - 1000 tweets: 2021-11-03 18:26:09.890942\n",
      "(124/254) Jim Hogg - 1000 tweets: 2021-11-03 18:26:35.474392\n",
      "(125/254) Jim Wells - 1000 tweets: 2021-11-03 18:27:06.022924\n",
      "(126/254) Johnson - 0 tweets: 2021-11-03 18:27:09.494468\n",
      "(127/254) Jones - 1000 tweets: 2021-11-03 18:27:37.311563\n",
      "(128/254) Karnes - 1 tweets: 2021-11-03 18:27:38.576414\n",
      "(129/254) Kaufman - 0 tweets: 2021-11-03 18:27:42.297051\n",
      "(130/254) Kendall - 1000 tweets: 2021-11-03 18:28:19.391485\n",
      "(131/254) Kenedy - 0 tweets: 2021-11-03 18:28:20.615874\n",
      "(132/254) Kent - 1000 tweets: 2021-11-03 18:28:50.223184\n",
      "(133/254) Kerr - 1000 tweets: 2021-11-03 18:29:26.944358\n",
      "(134/254) Kimble - 1000 tweets: 2021-11-03 18:29:57.986613\n",
      "(135/254) King - 1000 tweets: 2021-11-03 18:30:28.724882\n",
      "(136/254) Kinney - 1000 tweets: 2021-11-03 18:30:58.801376\n",
      "(137/254) Kleberg - 1000 tweets: 2021-11-03 18:31:27.091506\n",
      "(138/254) Knox - 1000 tweets: 2021-11-03 18:31:57.264202\n",
      "(139/254) Lamar - 1000 tweets: 2021-11-03 18:32:28.198020\n"
     ]
    },
    {
     "name": "stdout",
     "output_type": "stream",
     "text": [
      "(140/254) Lamb - 1000 tweets: 2021-11-03 18:32:58.876716\n",
      "(141/254) Lampasas - 1000 tweets: 2021-11-03 18:33:28.631924\n",
      "(142/254) La Salle - 1000 tweets: 2021-11-03 18:33:58.244625\n",
      "(143/254) Lavaca - 1000 tweets: 2021-11-03 18:34:29.236692\n",
      "(144/254) Lee - 1000 tweets: 2021-11-03 18:35:00.453108\n",
      "(145/254) Leon - 1000 tweets: 2021-11-03 18:35:29.762297\n",
      "(146/254) Liberty - 0 tweets: 2021-11-03 18:35:34.621731\n",
      "(147/254) Limestone - 0 tweets: 2021-11-03 18:35:35.925796\n",
      "(148/254) Lipscomb - 1000 tweets: 2021-11-03 18:36:07.544953\n",
      "(149/254) Live Oak - 1000 tweets: 2021-11-03 18:36:36.761767\n",
      "(150/254) Llano - 1000 tweets: 2021-11-03 18:37:07.972222\n",
      "(151/254) Loving - 0 tweets: 2021-11-03 18:37:09.207938\n",
      "(152/254) Lubbock - 1000 tweets: 2021-11-03 18:37:36.735332\n",
      "(153/254) Lynn - 1000 tweets: 2021-11-03 18:38:03.500519\n",
      "(154/254) Madison - 1000 tweets: 2021-11-03 18:38:29.014927\n",
      "(155/254) Marion - 1000 tweets: 2021-11-03 18:38:53.948952\n",
      "(156/254) Martin - 0 tweets: 2021-11-03 18:38:55.475601\n",
      "(157/254) Mason - 1000 tweets: 2021-11-03 19:09:18.162940\n",
      "(158/254) Matagorda - 1000 tweets: 2021-11-03 19:09:42.212574\n",
      "(159/254) Maverick - 1000 tweets: 2021-11-03 19:35:38.233134\n",
      "(160/254) McCulloch - 1000 tweets: 2021-11-03 19:36:02.822761\n",
      "(161/254) McLennan - 1000 tweets: 2021-11-03 19:38:27.176840\n",
      "(162/254) McMullen - 1000 tweets: 2021-11-03 19:38:50.416295\n",
      "(163/254) Medina - 1000 tweets: 2021-11-03 19:39:14.148618\n",
      "(164/254) Menard - 1000 tweets: 2021-11-03 19:39:37.579242\n",
      "(165/254) Midland - 1000 tweets: 2021-11-03 19:40:00.527396\n",
      "(166/254) Milam - 0 tweets: 2021-11-03 19:40:04.582174\n",
      "(167/254) Mills - 1000 tweets: 2021-11-03 19:40:28.739125\n",
      "(168/254) Mitchell - 1000 tweets: 2021-11-03 19:40:52.049139\n",
      "(169/254) Montague - 1000 tweets: 2021-11-03 19:41:15.546035\n",
      "(170/254) Montgomery - 7 tweets: 2021-11-03 19:41:19.581325\n",
      "(171/254) Moore - 1000 tweets: 2021-11-03 19:41:43.049573\n",
      "(172/254) Morris - 1000 tweets: 2021-11-03 19:42:07.735395\n",
      "(173/254) Motley - 1000 tweets: 2021-11-03 19:42:31.291653\n",
      "(174/254) Nacogdoches - 1000 tweets: 2021-11-03 19:42:55.297564\n",
      "(175/254) Navarro - 1000 tweets: 2021-11-03 19:43:20.662993\n",
      "(176/254) Newton - 1000 tweets: 2021-11-03 19:43:44.992240\n",
      "(177/254) Nolan - 1000 tweets: 2021-11-03 19:44:07.995235\n",
      "(178/254) Nueces - 1000 tweets: 2021-11-03 19:44:31.877242\n",
      "(179/254) Ochiltree - 1000 tweets: 2021-11-03 19:44:56.413521\n",
      "(180/254) Oldham - 1000 tweets: 2021-11-03 19:45:20.042891\n",
      "(181/254) Orange - 1 tweets: 2021-11-03 19:45:21.514395\n",
      "(182/254) Palo Pinto - 1000 tweets: 2021-11-03 19:45:45.424688\n",
      "(183/254) Panola - 1000 tweets: 2021-11-03 19:46:12.281932\n",
      "(184/254) Parker - 0 tweets: 2021-11-03 19:46:15.066373\n",
      "(185/254) Parmer - 1000 tweets: 2021-11-03 19:46:38.199116\n",
      "(186/254) Pecos - 1000 tweets: 2021-11-03 19:47:02.358012\n",
      "(187/254) Polk - 1000 tweets: 2021-11-03 19:47:27.366671\n",
      "(188/254) Potter - 1000 tweets: 2021-11-03 19:47:49.919087\n",
      "(189/254) Presidio - 1000 tweets: 2021-11-03 19:48:13.205753\n",
      "(190/254) Rains - 1000 tweets: 2021-11-03 19:48:36.250532\n",
      "(191/254) Randall - 1000 tweets: 2021-11-03 19:48:59.537225\n",
      "(192/254) Reagan - 1000 tweets: 2021-11-03 19:49:22.310427\n",
      "(193/254) Real - 1000 tweets: 2021-11-03 19:49:45.198807\n",
      "(194/254) Red River - 1000 tweets: 2021-11-03 19:50:08.297913\n",
      "(195/254) Reeves - 1000 tweets: 2021-11-03 19:50:31.623644\n",
      "(196/254) Refugio - 1000 tweets: 2021-11-03 19:50:54.475823\n",
      "(197/254) Roberts - 1000 tweets: 2021-11-03 19:51:17.244834\n",
      "(198/254) Robertson - 1000 tweets: 2021-11-03 19:51:40.614329\n",
      "(199/254) Rockwall - 1000 tweets: 2021-11-03 19:52:04.853499\n",
      "(200/254) Runnels - 1000 tweets: 2021-11-03 19:52:27.414578\n",
      "(201/254) Rusk - 1000 tweets: 2021-11-03 19:52:50.869775\n",
      "(202/254) Sabine - 1000 tweets: 2021-11-03 19:53:14.704616\n",
      "(203/254) San Augustine - 1000 tweets: 2021-11-03 19:53:37.716066\n",
      "(204/254) San Jacinto - 1000 tweets: 2021-11-03 19:54:02.175903\n",
      "(205/254) San Patricio - 1000 tweets: 2021-11-03 19:54:30.841222\n",
      "(206/254) San Saba - 1000 tweets: 2021-11-03 19:54:55.944906\n",
      "(207/254) Schleicher - 1000 tweets: 2021-11-03 19:55:20.446718\n",
      "(208/254) Scurry - 1000 tweets: 2021-11-03 19:55:43.746667\n",
      "(209/254) Shackelford - 1000 tweets: 2021-11-03 19:56:07.462028\n",
      "(210/254) Shelby - 1000 tweets: 2021-11-03 19:56:30.574015\n",
      "(211/254) Sherman - 1000 tweets: 2021-11-03 19:56:54.402767\n",
      "(212/254) Smith - 1000 tweets: 2021-11-03 19:57:17.291937\n",
      "(213/254) Somervell - 1000 tweets: 2021-11-03 19:57:40.240016\n",
      "(214/254) Starr - 1000 tweets: 2021-11-03 19:58:03.318763\n",
      "(215/254) Stephens - 1000 tweets: 2021-11-03 19:58:26.849600\n",
      "(216/254) Sterling - 1000 tweets: 2021-11-03 19:58:51.263356\n",
      "(217/254) Stonewall - 1000 tweets: 2021-11-03 19:59:14.157151\n",
      "(218/254) Sutton - 1000 tweets: 2021-11-03 19:59:37.985581\n",
      "(219/254) Swisher - 1000 tweets: 2021-11-03 20:00:01.090438\n",
      "(220/254) Tarrant - 14 tweets: 2021-11-03 20:00:02.905943\n",
      "(221/254) Taylor - 1000 tweets: 2021-11-03 20:00:27.152078\n",
      "(222/254) Terrell - 1000 tweets: 2021-11-03 20:00:50.489473\n",
      "(223/254) Terry - 1000 tweets: 2021-11-03 20:01:13.352422\n",
      "(224/254) Throckmorton - 1000 tweets: 2021-11-03 20:01:37.419326\n",
      "(225/254) Titus - 1000 tweets: 2021-11-03 20:02:00.767900\n",
      "(226/254) Tom Green - 1000 tweets: 2021-11-03 20:02:25.500600\n",
      "(227/254) Travis - 65 tweets: 2021-11-03 20:02:29.542579\n",
      "(228/254) Trinity - 1000 tweets: 2021-11-03 20:02:52.926448\n",
      "(229/254) Tyler - 1000 tweets: 2021-11-03 20:03:16.598579\n",
      "(230/254) Upshur - 1000 tweets: 2021-11-03 20:03:39.718330\n",
      "(231/254) Upton - 1000 tweets: 2021-11-03 20:04:03.121663\n",
      "(232/254) Uvalde - 1000 tweets: 2021-11-03 20:04:27.221382\n",
      "(233/254) Val Verde - 1000 tweets: 2021-11-03 20:04:50.804427\n",
      "(234/254) Van Zandt - 1000 tweets: 2021-11-03 20:05:14.995361\n",
      "(235/254) Victoria - 1000 tweets: 2021-11-03 20:05:37.993786\n",
      "(236/254) Walker - 1000 tweets: 2021-11-03 20:06:00.827518\n",
      "(237/254) Waller - 0 tweets: 2021-11-03 20:06:03.364578\n",
      "(238/254) Ward - 1000 tweets: 2021-11-03 20:06:27.270628\n",
      "(239/254) Washington - 1000 tweets: 2021-11-03 20:06:50.663534\n",
      "(240/254) Webb - 1 tweets: 2021-11-03 20:06:52.417912\n",
      "(241/254) Wharton - 1 tweets: 2021-11-03 20:06:53.954047\n",
      "(242/254) Wheeler - 1000 tweets: 2021-11-03 20:07:20.337058\n",
      "(243/254) Wichita - 2 tweets: 2021-11-03 20:07:21.915609\n",
      "(244/254) Wilbarger - 1000 tweets: 2021-11-03 20:07:46.666527\n",
      "(245/254) Willacy - 1000 tweets: 2021-11-03 20:08:13.475318\n",
      "(246/254) Williamson - 5 tweets: 2021-11-03 20:08:15.661617\n",
      "(247/254) Wilson - 1 tweets: 2021-11-03 20:08:17.170683\n",
      "(248/254) Winkler - 1000 tweets: 2021-11-03 20:08:45.357797\n",
      "(249/254) Wise - 1 tweets: 2021-11-03 20:08:47.089241\n",
      "(250/254) Wood - 0 tweets: 2021-11-03 20:08:50.966712\n",
      "(251/254) Yoakum - 1000 tweets: 2021-11-03 20:09:14.820914\n",
      "(252/254) Young - 1000 tweets: 2021-11-03 20:09:37.375806\n",
      "(253/254) Zapata - 1000 tweets: 2021-11-03 20:10:00.394833\n",
      "(254/254) Zavala - 1000 tweets: 2021-11-03 20:10:22.809601\n",
      "END: 2021-11-03 20:10:22.809760\n",
      "207333 tweets processed\n"
     ]
    }
   ],
   "source": [
    "tx_scraper(1000, \"2021-10-01\", \"2021-10-09\")"
   ]
  },
  {
   "cell_type": "markdown",
   "id": "f6da3af9",
   "metadata": {},
   "source": [
    "# References\n",
    "\n",
    "California Counties: https://www.mapsofworld.com/usa/states/california/california-county-map.html\n",
    "\n",
    "Florida Counties: https://www.mapsofworld.com/usa/states/florida/florida-county-map.html\n",
    "\n",
    "New York Counties: https://www.mapsofworld.com/usa/states/new-york/new-york-county-map.html\n",
    "\n",
    "Texas Counties: https://www.mapsofworld.com/usa/states/texas/texas-county-map.html"
   ]
  },
  {
   "cell_type": "markdown",
   "id": "b61ff7bc",
   "metadata": {},
   "source": [
    "## Sample DataFrame Format and Machine Learning"
   ]
  },
  {
   "cell_type": "code",
   "execution_count": 5,
   "id": "b6336867",
   "metadata": {},
   "outputs": [],
   "source": [
    "import pandas as pd"
   ]
  },
  {
   "cell_type": "code",
   "execution_count": 6,
   "id": "573a22e3",
   "metadata": {},
   "outputs": [],
   "source": [
    "marin_temp = pd.read_json(\"data/tweets/ca_tweets/Marin.json\", lines = True)\n",
    "marin = marin_temp.drop(columns={'url', 'date', 'content', 'id', 'user', 'replyCount',\n",
    "       'retweetCount', 'likeCount', 'quoteCount', 'conversationId', 'lang',\n",
    "       'source', 'sourceUrl', 'sourceLabel', 'outlinks', 'tcooutlinks',\n",
    "       'media', 'retweetedTweet', 'quotedTweet', 'inReplyToTweetId',\n",
    "       'inReplyToUser', 'mentionedUsers', 'coordinates', 'place',\n",
    "       'cashtags'})\n",
    "# apply filter method to find out tone of tweet, for brevity consider the temporary column 'tone'\n",
    "marin['tone'] = [3, 4, 5, 2, 2, 4, 2, 1]"
   ]
  },
  {
   "cell_type": "code",
   "execution_count": 7,
   "id": "74224a8c",
   "metadata": {},
   "outputs": [],
   "source": [
    "solano_temp = pd.read_json(\"data/tweets/ca_tweets/Solano.json\", lines = True)\n",
    "solano = solano_temp.drop(columns={'url', 'date', 'content', 'id', 'user', 'replyCount',\n",
    "       'retweetCount', 'likeCount', 'quoteCount', 'conversationId', 'lang',\n",
    "       'source', 'sourceUrl', 'sourceLabel', 'outlinks', 'tcooutlinks',\n",
    "       'media', 'retweetedTweet', 'quotedTweet', 'inReplyToTweetId',\n",
    "       'inReplyToUser', 'mentionedUsers', 'coordinates', 'place',\n",
    "       'cashtags'})\n",
    "# apply filter method to find out tone of tweet, for brevity consider the temporary column 'tone'\n",
    "solano['tone'] = [3, 3]"
   ]
  },
  {
   "cell_type": "code",
   "execution_count": 8,
   "id": "1289e487",
   "metadata": {},
   "outputs": [],
   "source": [
    "ventura_temp = pd.read_json(\"data/tweets/ca_tweets/Ventura.json\", lines = True)\n",
    "ventura = ventura_temp.drop(columns={'url', 'date', 'content', 'id', 'user', 'replyCount',\n",
    "       'retweetCount', 'likeCount', 'quoteCount', 'conversationId', 'lang',\n",
    "       'source', 'sourceUrl', 'sourceLabel', 'outlinks', 'tcooutlinks',\n",
    "       'media', 'retweetedTweet', 'quotedTweet', 'inReplyToTweetId',\n",
    "       'inReplyToUser', 'mentionedUsers', 'coordinates', 'place',\n",
    "       'cashtags'})\n",
    "# apply filter method to find out tone of tweet, for brevity consider the temporary column 'tone'\n",
    "ventura['tone'] = [4, 2, 1]"
   ]
  },
  {
   "cell_type": "code",
   "execution_count": 9,
   "id": "1433a8d4",
   "metadata": {},
   "outputs": [],
   "source": [
    "humboldt_temp = pd.read_json(\"data/tweets/ca_tweets/Humboldt.json\", lines = True)\n",
    "humboldt = humboldt_temp.drop(columns={'url', 'date', 'content', 'id', 'user', 'replyCount',\n",
    "       'retweetCount', 'likeCount', 'quoteCount', 'conversationId', 'lang',\n",
    "       'source', 'sourceUrl', 'sourceLabel', 'outlinks', 'tcooutlinks',\n",
    "       'media', 'retweetedTweet', 'quotedTweet', 'inReplyToTweetId',\n",
    "       'inReplyToUser', 'mentionedUsers', 'coordinates', 'place',\n",
    "       'cashtags'})\n",
    "# apply filter method to find out tone of tweet, for brevity consider the temporary column 'tone'\n",
    "humboldt['tone'] = [2, 4, 1]"
   ]
  },
  {
   "cell_type": "code",
   "execution_count": 10,
   "id": "45e55789",
   "metadata": {},
   "outputs": [],
   "source": [
    "ca_df = pd.DataFrame([marin['tone'].mean(), solano['tone'].mean(), ventura['tone'].mean()], columns={\"tone\"})\n",
    "ca_df['outbreak'] = [3, 2, 3]"
   ]
  },
  {
   "cell_type": "code",
   "execution_count": 11,
   "id": "39fd12a7",
   "metadata": {},
   "outputs": [
    {
     "name": "stdout",
     "output_type": "stream",
     "text": [
      "[3]\n"
     ]
    }
   ],
   "source": [
    "from sklearn.linear_model import LogisticRegression\n",
    "import numpy as np\n",
    "X_train = np.array(ca_df['tone']).reshape(-1, 1)\n",
    "y_train = ca_df['outbreak']\n",
    "X_test = np.array(humboldt['tone'].mean()).reshape(1, -1)\n",
    "model = LogisticRegression(penalty='none').fit(X_train, y_train)\n",
    "pred = model.predict(X_test)\n",
    "print(pred) # produces 3: an outbreak is predicted to occur in Humboldt"
   ]
  },
  {
   "cell_type": "markdown",
   "id": "bf781a0e",
   "metadata": {},
   "source": [
    "### More dataframe work OPTION 1"
   ]
  },
  {
   "cell_type": "code",
   "execution_count": 12,
   "id": "4ed59df5",
   "metadata": {},
   "outputs": [],
   "source": [
    "import os\n",
    "import glob"
   ]
  },
  {
   "cell_type": "code",
   "execution_count": 13,
   "id": "62fef396",
   "metadata": {},
   "outputs": [],
   "source": [
    "drop_cols = {'url','date','content','id','user','replyCount','retweetCount','likeCount','quoteCount','conversationId', 'lang','source', 'sourceUrl', 'sourceLabel', 'outlinks', 'tcooutlinks','media', 'retweetedTweet', 'quotedTweet', 'inReplyToTweetId','inReplyToUser', 'mentionedUsers', 'coordinates', 'place','cashtags'}"
   ]
  },
  {
   "cell_type": "code",
   "execution_count": 14,
   "id": "890f48ad",
   "metadata": {},
   "outputs": [],
   "source": [
    "def json_agg(path):\n",
    "    json_files = glob.glob(os.path.join(path, \"*.json\"))\n",
    "    return json_files"
   ]
  },
  {
   "cell_type": "code",
   "execution_count": 15,
   "id": "08fb5965",
   "metadata": {},
   "outputs": [],
   "source": [
    "def process_data(paths):\n",
    "    total = pd.DataFrame()\n",
    "    for path in paths:\n",
    "        temp = pd.read_json(path, lines=True)\n",
    "        #new_temp = temp.drop(columns=drop_cols, axis=0)\n",
    "        #print(type(temp))\n",
    "        new_temp = temp.drop(columns={'url', 'date', 'content', 'id', 'user', 'replyCount','retweetCount', 'likeCount', 'quoteCount', 'conversationId', 'lang','source', 'sourceUrl', 'sourceLabel', 'outlinks', 'tcooutlinks','media', 'retweetedTweet', 'quotedTweet', 'inReplyToTweetId','inReplyToUser', 'mentionedUsers', 'coordinates', 'place','cashtags'})\n",
    "        #print(temp)\n",
    "        total = total.append(temp)\n",
    "    return total"
   ]
  },
  {
   "cell_type": "code",
   "execution_count": 16,
   "id": "8a4c2da8",
   "metadata": {},
   "outputs": [],
   "source": [
    "path_source = os.getcwd()\n",
    "ca_tweets = path_source + '/data/tweets/ca_tweets'\n",
    "fl_tweets = path_source + '/data/tweets/fl_tweets'\n",
    "ny_tweets = path_source + '/data/tweets/ny_tweets'\n",
    "tx_tweets = path_source + '/data/tweets/tx_tweets'"
   ]
  },
  {
   "cell_type": "code",
   "execution_count": 17,
   "id": "8b4848da",
   "metadata": {},
   "outputs": [
    {
     "ename": "KeyError",
     "evalue": "\"['coordinates' 'id' 'content' 'sourceLabel' 'inReplyToTweetId'\\n 'replyCount' 'sourceUrl' 'quoteCount' 'date' 'tcooutlinks' 'url' 'media'\\n 'mentionedUsers' 'inReplyToUser' 'likeCount' 'conversationId'\\n 'retweetCount' 'user' 'lang' 'place' 'outlinks' 'source' 'cashtags'\\n 'retweetedTweet' 'quotedTweet'] not found in axis\"",
     "output_type": "error",
     "traceback": [
      "\u001b[0;31m---------------------------------------------------------------------------\u001b[0m",
      "\u001b[0;31mKeyError\u001b[0m                                  Traceback (most recent call last)",
      "\u001b[0;32m<ipython-input-17-f63058c7dc09>\u001b[0m in \u001b[0;36m<module>\u001b[0;34m\u001b[0m\n\u001b[1;32m      1\u001b[0m \u001b[0;31m# PROCESS CALIFORNIA\u001b[0m\u001b[0;34m\u001b[0m\u001b[0;34m\u001b[0m\u001b[0;34m\u001b[0m\u001b[0m\n\u001b[1;32m      2\u001b[0m \u001b[0mca_paths\u001b[0m \u001b[0;34m=\u001b[0m \u001b[0mjson_agg\u001b[0m\u001b[0;34m(\u001b[0m\u001b[0mca_tweets\u001b[0m\u001b[0;34m)\u001b[0m\u001b[0;34m\u001b[0m\u001b[0;34m\u001b[0m\u001b[0m\n\u001b[0;32m----> 3\u001b[0;31m \u001b[0mca_\u001b[0m \u001b[0;34m=\u001b[0m \u001b[0mprocess_data\u001b[0m\u001b[0;34m(\u001b[0m\u001b[0mca_paths\u001b[0m\u001b[0;34m)\u001b[0m\u001b[0;34m\u001b[0m\u001b[0;34m\u001b[0m\u001b[0m\n\u001b[0m",
      "\u001b[0;32m<ipython-input-15-f8feca4570d1>\u001b[0m in \u001b[0;36mprocess_data\u001b[0;34m(paths)\u001b[0m\n\u001b[1;32m      5\u001b[0m         \u001b[0;31m#new_temp = temp.drop(columns=drop_cols, axis=0)\u001b[0m\u001b[0;34m\u001b[0m\u001b[0;34m\u001b[0m\u001b[0;34m\u001b[0m\u001b[0m\n\u001b[1;32m      6\u001b[0m         \u001b[0;31m#print(type(temp))\u001b[0m\u001b[0;34m\u001b[0m\u001b[0;34m\u001b[0m\u001b[0;34m\u001b[0m\u001b[0m\n\u001b[0;32m----> 7\u001b[0;31m         \u001b[0mnew_temp\u001b[0m \u001b[0;34m=\u001b[0m \u001b[0mtemp\u001b[0m\u001b[0;34m.\u001b[0m\u001b[0mdrop\u001b[0m\u001b[0;34m(\u001b[0m\u001b[0mcolumns\u001b[0m\u001b[0;34m=\u001b[0m\u001b[0;34m{\u001b[0m\u001b[0;34m'url'\u001b[0m\u001b[0;34m,\u001b[0m \u001b[0;34m'date'\u001b[0m\u001b[0;34m,\u001b[0m \u001b[0;34m'content'\u001b[0m\u001b[0;34m,\u001b[0m \u001b[0;34m'id'\u001b[0m\u001b[0;34m,\u001b[0m \u001b[0;34m'user'\u001b[0m\u001b[0;34m,\u001b[0m \u001b[0;34m'replyCount'\u001b[0m\u001b[0;34m,\u001b[0m\u001b[0;34m'retweetCount'\u001b[0m\u001b[0;34m,\u001b[0m \u001b[0;34m'likeCount'\u001b[0m\u001b[0;34m,\u001b[0m \u001b[0;34m'quoteCount'\u001b[0m\u001b[0;34m,\u001b[0m \u001b[0;34m'conversationId'\u001b[0m\u001b[0;34m,\u001b[0m \u001b[0;34m'lang'\u001b[0m\u001b[0;34m,\u001b[0m\u001b[0;34m'source'\u001b[0m\u001b[0;34m,\u001b[0m \u001b[0;34m'sourceUrl'\u001b[0m\u001b[0;34m,\u001b[0m \u001b[0;34m'sourceLabel'\u001b[0m\u001b[0;34m,\u001b[0m \u001b[0;34m'outlinks'\u001b[0m\u001b[0;34m,\u001b[0m \u001b[0;34m'tcooutlinks'\u001b[0m\u001b[0;34m,\u001b[0m\u001b[0;34m'media'\u001b[0m\u001b[0;34m,\u001b[0m \u001b[0;34m'retweetedTweet'\u001b[0m\u001b[0;34m,\u001b[0m \u001b[0;34m'quotedTweet'\u001b[0m\u001b[0;34m,\u001b[0m \u001b[0;34m'inReplyToTweetId'\u001b[0m\u001b[0;34m,\u001b[0m\u001b[0;34m'inReplyToUser'\u001b[0m\u001b[0;34m,\u001b[0m \u001b[0;34m'mentionedUsers'\u001b[0m\u001b[0;34m,\u001b[0m \u001b[0;34m'coordinates'\u001b[0m\u001b[0;34m,\u001b[0m \u001b[0;34m'place'\u001b[0m\u001b[0;34m,\u001b[0m\u001b[0;34m'cashtags'\u001b[0m\u001b[0;34m}\u001b[0m\u001b[0;34m)\u001b[0m\u001b[0;34m\u001b[0m\u001b[0;34m\u001b[0m\u001b[0m\n\u001b[0m\u001b[1;32m      8\u001b[0m         \u001b[0;31m#print(temp)\u001b[0m\u001b[0;34m\u001b[0m\u001b[0;34m\u001b[0m\u001b[0;34m\u001b[0m\u001b[0m\n\u001b[1;32m      9\u001b[0m         \u001b[0mtotal\u001b[0m \u001b[0;34m=\u001b[0m \u001b[0mtotal\u001b[0m\u001b[0;34m.\u001b[0m\u001b[0mappend\u001b[0m\u001b[0;34m(\u001b[0m\u001b[0mtemp\u001b[0m\u001b[0;34m)\u001b[0m\u001b[0;34m\u001b[0m\u001b[0;34m\u001b[0m\u001b[0m\n",
      "\u001b[0;32m~/opt/anaconda3/lib/python3.8/site-packages/pandas/core/frame.py\u001b[0m in \u001b[0;36mdrop\u001b[0;34m(self, labels, axis, index, columns, level, inplace, errors)\u001b[0m\n\u001b[1;32m   4306\u001b[0m                 \u001b[0mweight\u001b[0m  \u001b[0;36m1.0\u001b[0m     \u001b[0;36m0.8\u001b[0m\u001b[0;34m\u001b[0m\u001b[0;34m\u001b[0m\u001b[0m\n\u001b[1;32m   4307\u001b[0m         \"\"\"\n\u001b[0;32m-> 4308\u001b[0;31m         return super().drop(\n\u001b[0m\u001b[1;32m   4309\u001b[0m             \u001b[0mlabels\u001b[0m\u001b[0;34m=\u001b[0m\u001b[0mlabels\u001b[0m\u001b[0;34m,\u001b[0m\u001b[0;34m\u001b[0m\u001b[0;34m\u001b[0m\u001b[0m\n\u001b[1;32m   4310\u001b[0m             \u001b[0maxis\u001b[0m\u001b[0;34m=\u001b[0m\u001b[0maxis\u001b[0m\u001b[0;34m,\u001b[0m\u001b[0;34m\u001b[0m\u001b[0;34m\u001b[0m\u001b[0m\n",
      "\u001b[0;32m~/opt/anaconda3/lib/python3.8/site-packages/pandas/core/generic.py\u001b[0m in \u001b[0;36mdrop\u001b[0;34m(self, labels, axis, index, columns, level, inplace, errors)\u001b[0m\n\u001b[1;32m   4151\u001b[0m         \u001b[0;32mfor\u001b[0m \u001b[0maxis\u001b[0m\u001b[0;34m,\u001b[0m \u001b[0mlabels\u001b[0m \u001b[0;32min\u001b[0m \u001b[0maxes\u001b[0m\u001b[0;34m.\u001b[0m\u001b[0mitems\u001b[0m\u001b[0;34m(\u001b[0m\u001b[0;34m)\u001b[0m\u001b[0;34m:\u001b[0m\u001b[0;34m\u001b[0m\u001b[0;34m\u001b[0m\u001b[0m\n\u001b[1;32m   4152\u001b[0m             \u001b[0;32mif\u001b[0m \u001b[0mlabels\u001b[0m \u001b[0;32mis\u001b[0m \u001b[0;32mnot\u001b[0m \u001b[0;32mNone\u001b[0m\u001b[0;34m:\u001b[0m\u001b[0;34m\u001b[0m\u001b[0;34m\u001b[0m\u001b[0m\n\u001b[0;32m-> 4153\u001b[0;31m                 \u001b[0mobj\u001b[0m \u001b[0;34m=\u001b[0m \u001b[0mobj\u001b[0m\u001b[0;34m.\u001b[0m\u001b[0m_drop_axis\u001b[0m\u001b[0;34m(\u001b[0m\u001b[0mlabels\u001b[0m\u001b[0;34m,\u001b[0m \u001b[0maxis\u001b[0m\u001b[0;34m,\u001b[0m \u001b[0mlevel\u001b[0m\u001b[0;34m=\u001b[0m\u001b[0mlevel\u001b[0m\u001b[0;34m,\u001b[0m \u001b[0merrors\u001b[0m\u001b[0;34m=\u001b[0m\u001b[0merrors\u001b[0m\u001b[0;34m)\u001b[0m\u001b[0;34m\u001b[0m\u001b[0;34m\u001b[0m\u001b[0m\n\u001b[0m\u001b[1;32m   4154\u001b[0m \u001b[0;34m\u001b[0m\u001b[0m\n\u001b[1;32m   4155\u001b[0m         \u001b[0;32mif\u001b[0m \u001b[0minplace\u001b[0m\u001b[0;34m:\u001b[0m\u001b[0;34m\u001b[0m\u001b[0;34m\u001b[0m\u001b[0m\n",
      "\u001b[0;32m~/opt/anaconda3/lib/python3.8/site-packages/pandas/core/generic.py\u001b[0m in \u001b[0;36m_drop_axis\u001b[0;34m(self, labels, axis, level, errors)\u001b[0m\n\u001b[1;32m   4186\u001b[0m                 \u001b[0mnew_axis\u001b[0m \u001b[0;34m=\u001b[0m \u001b[0maxis\u001b[0m\u001b[0;34m.\u001b[0m\u001b[0mdrop\u001b[0m\u001b[0;34m(\u001b[0m\u001b[0mlabels\u001b[0m\u001b[0;34m,\u001b[0m \u001b[0mlevel\u001b[0m\u001b[0;34m=\u001b[0m\u001b[0mlevel\u001b[0m\u001b[0;34m,\u001b[0m \u001b[0merrors\u001b[0m\u001b[0;34m=\u001b[0m\u001b[0merrors\u001b[0m\u001b[0;34m)\u001b[0m\u001b[0;34m\u001b[0m\u001b[0;34m\u001b[0m\u001b[0m\n\u001b[1;32m   4187\u001b[0m             \u001b[0;32melse\u001b[0m\u001b[0;34m:\u001b[0m\u001b[0;34m\u001b[0m\u001b[0;34m\u001b[0m\u001b[0m\n\u001b[0;32m-> 4188\u001b[0;31m                 \u001b[0mnew_axis\u001b[0m \u001b[0;34m=\u001b[0m \u001b[0maxis\u001b[0m\u001b[0;34m.\u001b[0m\u001b[0mdrop\u001b[0m\u001b[0;34m(\u001b[0m\u001b[0mlabels\u001b[0m\u001b[0;34m,\u001b[0m \u001b[0merrors\u001b[0m\u001b[0;34m=\u001b[0m\u001b[0merrors\u001b[0m\u001b[0;34m)\u001b[0m\u001b[0;34m\u001b[0m\u001b[0;34m\u001b[0m\u001b[0m\n\u001b[0m\u001b[1;32m   4189\u001b[0m             \u001b[0mresult\u001b[0m \u001b[0;34m=\u001b[0m \u001b[0mself\u001b[0m\u001b[0;34m.\u001b[0m\u001b[0mreindex\u001b[0m\u001b[0;34m(\u001b[0m\u001b[0;34m**\u001b[0m\u001b[0;34m{\u001b[0m\u001b[0maxis_name\u001b[0m\u001b[0;34m:\u001b[0m \u001b[0mnew_axis\u001b[0m\u001b[0;34m}\u001b[0m\u001b[0;34m)\u001b[0m\u001b[0;34m\u001b[0m\u001b[0;34m\u001b[0m\u001b[0m\n\u001b[1;32m   4190\u001b[0m \u001b[0;34m\u001b[0m\u001b[0m\n",
      "\u001b[0;32m~/opt/anaconda3/lib/python3.8/site-packages/pandas/core/indexes/base.py\u001b[0m in \u001b[0;36mdrop\u001b[0;34m(self, labels, errors)\u001b[0m\n\u001b[1;32m   5589\u001b[0m         \u001b[0;32mif\u001b[0m \u001b[0mmask\u001b[0m\u001b[0;34m.\u001b[0m\u001b[0many\u001b[0m\u001b[0;34m(\u001b[0m\u001b[0;34m)\u001b[0m\u001b[0;34m:\u001b[0m\u001b[0;34m\u001b[0m\u001b[0;34m\u001b[0m\u001b[0m\n\u001b[1;32m   5590\u001b[0m             \u001b[0;32mif\u001b[0m \u001b[0merrors\u001b[0m \u001b[0;34m!=\u001b[0m \u001b[0;34m\"ignore\"\u001b[0m\u001b[0;34m:\u001b[0m\u001b[0;34m\u001b[0m\u001b[0;34m\u001b[0m\u001b[0m\n\u001b[0;32m-> 5591\u001b[0;31m                 \u001b[0;32mraise\u001b[0m \u001b[0mKeyError\u001b[0m\u001b[0;34m(\u001b[0m\u001b[0;34mf\"{labels[mask]} not found in axis\"\u001b[0m\u001b[0;34m)\u001b[0m\u001b[0;34m\u001b[0m\u001b[0;34m\u001b[0m\u001b[0m\n\u001b[0m\u001b[1;32m   5592\u001b[0m             \u001b[0mindexer\u001b[0m \u001b[0;34m=\u001b[0m \u001b[0mindexer\u001b[0m\u001b[0;34m[\u001b[0m\u001b[0;34m~\u001b[0m\u001b[0mmask\u001b[0m\u001b[0;34m]\u001b[0m\u001b[0;34m\u001b[0m\u001b[0;34m\u001b[0m\u001b[0m\n\u001b[1;32m   5593\u001b[0m         \u001b[0;32mreturn\u001b[0m \u001b[0mself\u001b[0m\u001b[0;34m.\u001b[0m\u001b[0mdelete\u001b[0m\u001b[0;34m(\u001b[0m\u001b[0mindexer\u001b[0m\u001b[0;34m)\u001b[0m\u001b[0;34m\u001b[0m\u001b[0;34m\u001b[0m\u001b[0m\n",
      "\u001b[0;31mKeyError\u001b[0m: \"['coordinates' 'id' 'content' 'sourceLabel' 'inReplyToTweetId'\\n 'replyCount' 'sourceUrl' 'quoteCount' 'date' 'tcooutlinks' 'url' 'media'\\n 'mentionedUsers' 'inReplyToUser' 'likeCount' 'conversationId'\\n 'retweetCount' 'user' 'lang' 'place' 'outlinks' 'source' 'cashtags'\\n 'retweetedTweet' 'quotedTweet'] not found in axis\""
     ]
    }
   ],
   "source": [
    "# PROCESS CALIFORNIA\n",
    "ca_paths = json_agg(ca_tweets)\n",
    "ca_ = process_data(ca_paths)"
   ]
  },
  {
   "cell_type": "code",
   "execution_count": 18,
   "id": "48945abc",
   "metadata": {},
   "outputs": [
    {
     "ename": "NameError",
     "evalue": "name 'ca_' is not defined",
     "output_type": "error",
     "traceback": [
      "\u001b[0;31m---------------------------------------------------------------------------\u001b[0m",
      "\u001b[0;31mNameError\u001b[0m                                 Traceback (most recent call last)",
      "\u001b[0;32m<ipython-input-18-d8e56aa277ca>\u001b[0m in \u001b[0;36m<module>\u001b[0;34m\u001b[0m\n\u001b[0;32m----> 1\u001b[0;31m \u001b[0mca_\u001b[0m\u001b[0;34m.\u001b[0m\u001b[0mshape\u001b[0m\u001b[0;34m\u001b[0m\u001b[0;34m\u001b[0m\u001b[0m\n\u001b[0m",
      "\u001b[0;31mNameError\u001b[0m: name 'ca_' is not defined"
     ]
    }
   ],
   "source": [
    "ca_.shape"
   ]
  },
  {
   "cell_type": "code",
   "execution_count": 19,
   "id": "5f863c14",
   "metadata": {},
   "outputs": [
    {
     "ename": "NameError",
     "evalue": "name 'json_files' is not defined",
     "output_type": "error",
     "traceback": [
      "\u001b[0;31m---------------------------------------------------------------------------\u001b[0m",
      "\u001b[0;31mNameError\u001b[0m                                 Traceback (most recent call last)",
      "\u001b[0;32m<ipython-input-19-3dd41f2486e5>\u001b[0m in \u001b[0;36m<module>\u001b[0;34m\u001b[0m\n\u001b[0;32m----> 1\u001b[0;31m \u001b[0;32mfor\u001b[0m \u001b[0mfile\u001b[0m \u001b[0;32min\u001b[0m \u001b[0mjson_files\u001b[0m\u001b[0;34m:\u001b[0m\u001b[0;34m\u001b[0m\u001b[0;34m\u001b[0m\u001b[0m\n\u001b[0m\u001b[1;32m      2\u001b[0m     \u001b[0mtemppd\u001b[0m\u001b[0;34m.\u001b[0m\u001b[0mread_json\u001b[0m\u001b[0;34m(\u001b[0m\u001b[0mfile\u001b[0m\u001b[0;34m,\u001b[0m \u001b[0mlines\u001b[0m\u001b[0;34m=\u001b[0m\u001b[0;32mTrue\u001b[0m\u001b[0;34m)\u001b[0m\u001b[0;34m\u001b[0m\u001b[0;34m\u001b[0m\u001b[0m\n",
      "\u001b[0;31mNameError\u001b[0m: name 'json_files' is not defined"
     ]
    }
   ],
   "source": [
    "for file in json_files:\n",
    "    temppd.read_json(file, lines=True)"
   ]
  },
  {
   "cell_type": "code",
   "execution_count": 20,
   "id": "73851d30",
   "metadata": {},
   "outputs": [
    {
     "ename": "NameError",
     "evalue": "name 'json_files' is not defined",
     "output_type": "error",
     "traceback": [
      "\u001b[0;31m---------------------------------------------------------------------------\u001b[0m",
      "\u001b[0;31mNameError\u001b[0m                                 Traceback (most recent call last)",
      "\u001b[0;32m<ipython-input-20-4c497ebfd28a>\u001b[0m in \u001b[0;36m<module>\u001b[0;34m\u001b[0m\n\u001b[0;32m----> 1\u001b[0;31m \u001b[0mtype\u001b[0m\u001b[0;34m(\u001b[0m\u001b[0mjson_files\u001b[0m\u001b[0;34m)\u001b[0m\u001b[0;34m\u001b[0m\u001b[0;34m\u001b[0m\u001b[0m\n\u001b[0m",
      "\u001b[0;31mNameError\u001b[0m: name 'json_files' is not defined"
     ]
    }
   ],
   "source": [
    "type(json_files)"
   ]
  },
  {
   "cell_type": "code",
   "execution_count": 21,
   "id": "502eb6fa",
   "metadata": {},
   "outputs": [],
   "source": [
    "path_source = os.getcwd()\n",
    "ca_path = path_source + '/data/tweets/ca_tweets'"
   ]
  },
  {
   "cell_type": "code",
   "execution_count": 22,
   "id": "53a487d1",
   "metadata": {},
   "outputs": [
    {
     "name": "stdout",
     "output_type": "stream",
     "text": [
      "/Users/Justin/github/The-Processors/ics-438-final-project/data/tweets/ca_tweets\n"
     ]
    }
   ],
   "source": [
    "print(ca_tweets)"
   ]
  },
  {
   "cell_type": "markdown",
   "id": "91cbc495",
   "metadata": {},
   "source": [
    "### Work based on asignment 1"
   ]
  },
  {
   "cell_type": "code",
   "execution_count": 23,
   "id": "e625fd0d",
   "metadata": {},
   "outputs": [
    {
     "ename": "IndentationError",
     "evalue": "unexpected indent (<ipython-input-23-893b9d2debbf>, line 12)",
     "output_type": "error",
     "traceback": [
      "\u001b[0;36m  File \u001b[0;32m\"<ipython-input-23-893b9d2debbf>\"\u001b[0;36m, line \u001b[0;32m12\u001b[0m\n\u001b[0;31m    get_ipython().run_line_magic('pinfo', 'analysis')\u001b[0m\n\u001b[0m    ^\u001b[0m\n\u001b[0;31mIndentationError\u001b[0m\u001b[0;31m:\u001b[0m unexpected indent\n"
     ]
    }
   ],
   "source": [
    "# sample_record = json.load(open(\"data/record.json\"))\n",
    "# NOTE: CODE MISSING FINISH THIS\n",
    "from collections import Counter\n",
    "\n",
    "var_types = []\n",
    "tax_ids = []\n",
    "record = None\n",
    "i = 0\n",
    "for line in open(\"data_report.jsonl\"):\n",
    "    record = json.loads(line)\n",
    "    i+=1\n",
    "        ...sentiment analysis?\n",
    "#Counter(sentiment_types)"
   ]
  },
  {
   "cell_type": "markdown",
   "id": "22d8c36d",
   "metadata": {},
   "source": [
    "### More models and evaluation"
   ]
  },
  {
   "cell_type": "code",
   "execution_count": 26,
   "id": "2f8ca09f",
   "metadata": {},
   "outputs": [],
   "source": [
    "from sklearn import svm"
   ]
  },
  {
   "cell_type": "code",
   "execution_count": null,
   "id": "fcf5a836",
   "metadata": {},
   "outputs": [],
   "source": [
    "# fix model and evaluation metrics"
   ]
  },
  {
   "cell_type": "code",
   "execution_count": 25,
   "id": "ca0580a0",
   "metadata": {},
   "outputs": [],
   "source": [
    "from sklearn.cluster import KMeans"
   ]
  },
  {
   "cell_type": "code",
   "execution_count": 27,
   "id": "01deaff2",
   "metadata": {},
   "outputs": [],
   "source": [
    "# fix model and evaluation metrics"
   ]
  },
  {
   "cell_type": "code",
   "execution_count": null,
   "id": "0026ff00",
   "metadata": {},
   "outputs": [],
   "source": []
  }
 ],
 "metadata": {
  "kernelspec": {
   "display_name": "Python 3",
   "language": "python",
   "name": "python3"
  },
  "language_info": {
   "codemirror_mode": {
    "name": "ipython",
    "version": 3
   },
   "file_extension": ".py",
   "mimetype": "text/x-python",
   "name": "python",
   "nbconvert_exporter": "python",
   "pygments_lexer": "ipython3",
   "version": "3.8.8"
  }
 },
 "nbformat": 4,
 "nbformat_minor": 5
}
